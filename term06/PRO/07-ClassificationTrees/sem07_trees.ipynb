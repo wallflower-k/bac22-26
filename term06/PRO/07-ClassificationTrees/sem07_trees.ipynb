{
 "cells": [
  {
   "cell_type": "markdown",
   "id": "b326ddcb-88da-4a15-82dc-0052d7294cbb",
   "metadata": {
    "colab_type": "text",
    "id": "wJx5iz1qk_SW"
   },
   "source": [
    "## Линейные модели или решающие деревья?\n",
    "\n",
    "Раньше мы разбирали линейные модели, которые имеют совсем другую природу по отношению к решающим деревьям. Можно ли сказать, что какой-то из этих двух типов моделей всегда лучше? Нет. В зависимости от пространственной структуры данных, один из них будет работать лучше:\n",
    "\n",
    "- Линейная модель, если данные хорошо линейно разделимы\n",
    "\n",
    "- Решающие деревья, если данные плохо линейно разделимы (присутствуют только кусочно-линейные или нелинейные зависимости)"
   ]
  },
  {
   "cell_type": "code",
   "execution_count": null,
   "id": "69b437e5-a2cb-4b19-8861-5efda8678c42",
   "metadata": {
    "colab": {},
    "colab_type": "code",
    "id": "aCZjbfGWk_SW"
   },
   "outputs": [],
   "source": [
    "import matplotlib.pyplot as plt\n",
    "import numpy as np\n",
    "\n",
    "from sklearn.linear_model import LogisticRegression\n",
    "from sklearn.metrics import accuracy_score\n",
    "from sklearn.model_selection import train_test_split\n",
    "\n",
    "\n",
    "%matplotlib inline\n",
    "plt.rcParams[\"figure.figsize\"] = (11, 6.5)"
   ]
  },
  {
   "cell_type": "code",
   "execution_count": null,
   "id": "0c63cddb-161f-48e2-ab77-aa3bd7e7ec46",
   "metadata": {
    "colab": {
     "base_uri": "https://localhost:8080/",
     "height": 403
    },
    "colab_type": "code",
    "id": "WN7VGDk6k_Sc",
    "outputId": "7d21dd42-8de6-40b2-a07b-4f68ab456e4c"
   },
   "outputs": [],
   "source": [
    "np.random.seed(13)\n",
    "n = 500\n",
    "X = np.zeros(shape=(n, 2))\n",
    "X[:, 0] = np.linspace(-5, 5, 500)\n",
    "X[:, 1] = X[:, 0] + 0.5 * np.random.normal(size=n)\n",
    "y = (X[:, 1] > X[:, 0]).astype(int)\n",
    "plt.scatter(X[:, 0], X[:, 1], s=100, c=y, cmap=\"winter\")\n",
    "plt.show()"
   ]
  },
  {
   "cell_type": "code",
   "execution_count": null,
   "id": "729fd5ab-2051-4633-83a0-fbb569c168f8",
   "metadata": {
    "colab": {},
    "colab_type": "code",
    "id": "TcrZmoKDk_Si"
   },
   "outputs": [],
   "source": [
    "X_train, X_test, y_train, y_test = train_test_split(X, y, test_size=0.25, random_state=13)\n",
    "\n",
    "lr = LogisticRegression(random_state=13)\n",
    "lr.fit(X_train, y_train)\n",
    "y_pred_lr = lr.predict(X_test)\n",
    "\n",
    "print(f\"Linear model accuracy: {accuracy_score(y_pred_lr, y_test):.2f}\")"
   ]
  },
  {
   "cell_type": "code",
   "execution_count": null,
   "id": "f4591f85-907f-4de0-8b63-b6c1c3d62729",
   "metadata": {
    "colab": {
     "base_uri": "https://localhost:8080/",
     "height": 401
    },
    "colab_type": "code",
    "id": "5D8ZebbVk_Sp",
    "outputId": "ee25d35f-9ebc-4ce6-bdc6-f875f7e09735"
   },
   "outputs": [],
   "source": [
    "# !pip install mlxtend\n",
    "from mlxtend.plotting import plot_decision_regions\n",
    "plot_decision_regions(X_test, y_test, lr)\n",
    "\n",
    "plt.show()"
   ]
  },
  {
   "cell_type": "code",
   "execution_count": null,
   "id": "565a40a0-7ab3-4753-99d8-06e9feb747cd",
   "metadata": {
    "colab": {},
    "colab_type": "code",
    "id": "6kXwTDCgk_Sr"
   },
   "outputs": [],
   "source": [
    "from sklearn.tree import DecisionTreeClassifier\n",
    "\n",
    "dt = DecisionTreeClassifier(random_state=13)\n",
    "dt.fit(X_train, y_train)\n",
    "y_pred_dt = dt.predict(X_test)\n",
    "\n",
    "print(f\"Decision tree accuracy: {accuracy_score(y_pred_dt, y_test):.2f}\")"
   ]
  },
  {
   "cell_type": "code",
   "execution_count": null,
   "id": "0f38c8a3-42d2-4792-a87f-7a3ee384804b",
   "metadata": {
    "colab": {
     "base_uri": "https://localhost:8080/",
     "height": 401
    },
    "colab_type": "code",
    "id": "UcYFIVU0k_Sw",
    "outputId": "731b09b9-3e10-4dd3-e208-6839d190a1b8"
   },
   "outputs": [],
   "source": [
    "plot_decision_regions(X_test, y_test, dt)\n",
    "plt.show()"
   ]
  },
  {
   "cell_type": "code",
   "execution_count": null,
   "id": "e9a33f39-7c18-4862-8f62-d1c03677b463",
   "metadata": {
    "colab": {
     "base_uri": "https://localhost:8080/",
     "height": 401
    },
    "colab_type": "code",
    "id": "4_ORHFUPk_Sy",
    "outputId": "24757b6c-42b4-4d6a-f22c-b1cc60440e03"
   },
   "outputs": [],
   "source": [
    "np.random.seed(13)\n",
    "X = np.random.randn(500, 2)\n",
    "y = np.logical_xor(X[:, 0] > 0, X[:, 1] > 0).astype(int)\n",
    "plt.scatter(X[:, 0], X[:, 1], s=100, c=y, cmap=\"winter\")\n",
    "plt.show()"
   ]
  },
  {
   "cell_type": "code",
   "execution_count": null,
   "id": "49f42182-9925-42f2-871a-41ecd6ebd7cb",
   "metadata": {
    "colab": {
     "base_uri": "https://localhost:8080/",
     "height": 34
    },
    "colab_type": "code",
    "id": "emxtn3_Xk_S2",
    "outputId": "0af0a156-4dc8-45c7-a1af-0b9b999c477d"
   },
   "outputs": [],
   "source": [
    "X_train, X_test, y_train, y_test = train_test_split(X, y, test_size=0.25, random_state=13)\n",
    "\n",
    "lr = LogisticRegression(random_state=13)\n",
    "lr.fit(X_train, y_train)\n",
    "y_pred_lr = lr.predict(X_test)\n",
    "\n",
    "print(f\"Linear model accuracy: {accuracy_score(y_pred_lr, y_test):.2f}\")\n",
    "\n",
    "plot_decision_regions(X_test, y_test, lr)\n",
    "plt.show()"
   ]
  },
  {
   "cell_type": "code",
   "execution_count": null,
   "id": "8db274c8-bd9a-413f-8abc-4e479e5962ca",
   "metadata": {
    "colab": {
     "base_uri": "https://localhost:8080/",
     "height": 34
    },
    "colab_type": "code",
    "id": "ZyvCcc5-k_S7",
    "outputId": "f4dbc9af-0441-470b-97d7-11462e8f4b9b"
   },
   "outputs": [],
   "source": [
    "dt = DecisionTreeClassifier(random_state=13)\n",
    "dt.fit(X_train, y_train)\n",
    "y_pred_dt = dt.predict(X_test)\n",
    "\n",
    "print(f\"Linear model accuracy: {accuracy_score(y_pred_dt, y_test):.2f}\")\n",
    "\n",
    "plot_decision_regions(X_test, y_test, dt)\n",
    "plt.show()"
   ]
  },
  {
   "cell_type": "markdown",
   "id": "d61abe95-8105-4981-93ae-3c18717e8841",
   "metadata": {
    "colab_type": "text",
    "id": "oSgebfwWk_S_"
   },
   "source": [
    "## Переобучение"
   ]
  },
  {
   "cell_type": "markdown",
   "id": "1ff8b6c4-4be3-45b5-81d7-9631e74d0678",
   "metadata": {},
   "source": [
    "Решающие деревья способны переобучиться под любую выборку, если их никак не регуляризовать: при большом количестве листьев для каждого объекта может выделиться своя область в признаковом пространстве. По сути дерево просто выучивает обучающую выборку, но выделяет никаких закономерностей среди данных. Давайте убедимся в этом эффекте на практике, сгенерировав два трудноразделимых множества объектов."
   ]
  },
  {
   "cell_type": "code",
   "execution_count": null,
   "id": "e38841c6-9e5a-495c-9eb7-b00431ec8806",
   "metadata": {
    "colab": {
     "base_uri": "https://localhost:8080/",
     "height": 401
    },
    "colab_type": "code",
    "id": "l3CDXRcmk_TA",
    "outputId": "05b1237f-7343-4cb4-ec2f-2cb510c32a63"
   },
   "outputs": [],
   "source": [
    "np.random.seed(13)\n",
    "n = 100\n",
    "X = np.random.normal(size=(n, 2))\n",
    "X[:50, :] += 0.25\n",
    "X[50:, :] -= 0.25\n",
    "y = np.array([1] * 50 + [0] * 50)\n",
    "plt.scatter(X[:, 0], X[:, 1], s=100, c=y, cmap=\"winter\")\n",
    "plt.show()"
   ]
  },
  {
   "cell_type": "markdown",
   "id": "06d5e05f-01e9-4bb4-9f2f-f783c80abefb",
   "metadata": {
    "colab_type": "text",
    "id": "XgBTDhINk_TC"
   },
   "source": [
    "Посмотрим, как влияют разные значения гиперпараметров решающего дерева на его структуру:\n",
    "\n",
    "- `max_depth`: максимальная глубина дерева\n",
    "- `min_samples_leaf`: минимальное число объектов в вершине дерева, необходимое для того, чтобы она стала листовой"
   ]
  },
  {
   "cell_type": "code",
   "execution_count": null,
   "id": "ca777632-04f9-433f-b734-40a4ea3a1d3e",
   "metadata": {
    "colab": {
     "base_uri": "https://localhost:8080/",
     "height": 699
    },
    "colab_type": "code",
    "id": "bFdroxCGk_TD",
    "outputId": "c8fccf0c-f434-442e-c644-810c008e75b3"
   },
   "outputs": [],
   "source": [
    "fig, ax = plt.subplots(nrows=3, ncols=3, figsize=(15, 12))\n",
    "\n",
    "for i, max_depth in enumerate([3, 5, None]):\n",
    "    for j, min_samples_leaf in enumerate([15, 5, 1]):\n",
    "        dt = DecisionTreeClassifier(max_depth=max_depth, min_samples_leaf=min_samples_leaf, random_state=13)\n",
    "        dt.fit(X, y)\n",
    "        ax[i][j].set_title(\"max_depth = {} | min_samples_leaf = {}\".format(max_depth, min_samples_leaf))\n",
    "        ax[i][j].axis(\"off\")\n",
    "        plot_decision_regions(X, y, dt, ax=ax[i][j])\n",
    "        \n",
    "plt.show()"
   ]
  },
  {
   "cell_type": "markdown",
   "id": "f493dea2-469c-4c08-ab43-7b9b0037b476",
   "metadata": {
    "colab_type": "text",
    "id": "rDSA2oeDk_TF"
   },
   "source": [
    "На любой выборке (исключая те, где есть объекты с одинаковыми значениями признаков, но разными ответами) можно получить нулевую ошибку - с помощью максимально переобученного дерева:"
   ]
  },
  {
   "cell_type": "code",
   "execution_count": null,
   "id": "3fde6ac9-5dcd-4db8-b2f9-9a2538830509",
   "metadata": {
    "colab": {
     "base_uri": "https://localhost:8080/",
     "height": 401
    },
    "colab_type": "code",
    "id": "hdlvbWRik_TF",
    "outputId": "cb8e50bf-4677-417e-e307-38ca032fb6e8"
   },
   "outputs": [],
   "source": [
    "dt = DecisionTreeClassifier(max_depth=None, min_samples_leaf=1, random_state=13)\n",
    "dt.fit(X, y)\n",
    "\n",
    "print(f\"Decision tree accuracy: {accuracy_score(y, dt.predict(X)):.2f}\")\n",
    "\n",
    "plot_decision_regions(X, y, dt)\n",
    "plt.show()"
   ]
  },
  {
   "cell_type": "markdown",
   "id": "4866c6df-d463-41b5-97c9-80255780626d",
   "metadata": {
    "colab_type": "text",
    "id": "xvmfSXRak_TJ"
   },
   "source": [
    "## Неустойчивость"
   ]
  },
  {
   "cell_type": "markdown",
   "id": "8d72612b-9579-47e1-81f5-f02fa3dbe857",
   "metadata": {
    "colab_type": "text",
    "id": "ATJDz_KMk_TK"
   },
   "source": [
    "Посмотрим, как будет меняться структура дерева, если брать для обучения разные 90%-ые подвыборки исходной выборки."
   ]
  },
  {
   "cell_type": "code",
   "execution_count": null,
   "id": "dc508ea4-fd06-456e-bd8f-88bd1c764d6a",
   "metadata": {
    "colab": {
     "base_uri": "https://localhost:8080/",
     "height": 699
    },
    "colab_type": "code",
    "id": "BFYd1Rauk_TL",
    "outputId": "a1aa316a-6aaf-4bb1-bad1-b1a2433cec3f"
   },
   "outputs": [],
   "source": [
    "fig, ax = plt.subplots(nrows=3, ncols=3, figsize=(15, 12))\n",
    "\n",
    "for i in range(3):\n",
    "    for j in range(3):\n",
    "        seed_idx = 3 * i + j\n",
    "        np.random.seed(seed_idx)\n",
    "        dt = DecisionTreeClassifier(random_state=13)\n",
    "        idx_part = np.random.choice(len(X), replace=False, size=int(0.9 * len(X)))\n",
    "        X_part, y_part = X[idx_part, :], y[idx_part]\n",
    "        dt.fit(X_part, y_part)\n",
    "        ax[i][j].set_title(\"sample #{}\".format(seed_idx))\n",
    "        ax[i][j].axis(\"off\")\n",
    "        plot_decision_regions(X_part, y_part, dt, ax=ax[i][j])\n",
    "        \n",
    "plt.show()"
   ]
  },
  {
   "cell_type": "markdown",
   "id": "bb0a035f-3a6c-445d-8966-7a99e2591dc7",
   "metadata": {},
   "source": [
    "### Практика"
   ]
  },
  {
   "cell_type": "code",
   "execution_count": null,
   "id": "f5516559-8d36-477c-87dc-0f6a97fbcca8",
   "metadata": {
    "colab": {},
    "colab_type": "code",
    "id": "fjRVwIE7k_TP"
   },
   "outputs": [],
   "source": [
    "import pandas as pd"
   ]
  },
  {
   "cell_type": "code",
   "execution_count": null,
   "id": "f0e6ff25-77ba-4aa6-838e-29dd1bb0725a",
   "metadata": {},
   "outputs": [],
   "source": [
    "data = pd.read_csv('Boston.csv')\n",
    "X = data.drop('medv', axis=1)\n",
    "y =data.medv\n",
    "\n",
    "print(f\"Data shape: {X.shape}\")\n",
    "X.head()"
   ]
  },
  {
   "cell_type": "code",
   "execution_count": null,
   "id": "11972f12-2b04-4620-bdea-93d135ee7a07",
   "metadata": {},
   "outputs": [],
   "source": [
    "X_train, X_test, y_train, y_test = train_test_split(X, y, test_size=0.25, random_state=13)"
   ]
  },
  {
   "cell_type": "code",
   "execution_count": null,
   "id": "6299b930-53f1-4649-ab88-12e60c82a067",
   "metadata": {},
   "outputs": [],
   "source": [
    "from sklearn.metrics import mean_squared_error\n",
    "from sklearn.tree import DecisionTreeRegressor, plot_tree"
   ]
  },
  {
   "cell_type": "code",
   "execution_count": null,
   "id": "685c0bde-f34a-4ae6-aa6b-3f7ffa9788c5",
   "metadata": {
    "colab": {
     "base_uri": "https://localhost:8080/",
     "height": 119
    },
    "colab_type": "code",
    "id": "3YbPFyUyk_T9",
    "outputId": "4dcb9845-eff3-41a5-d2a0-aef6593ec47e"
   },
   "outputs": [],
   "source": [
    "dt = DecisionTreeRegressor(max_depth=3, random_state=13)\n",
    "dt.fit(X_train, y_train)\n",
    "\n",
    "plot_tree(dt, feature_names=X.columns, filled=True, rounded=True)\n",
    "plt.show()"
   ]
  },
  {
   "cell_type": "code",
   "execution_count": null,
   "id": "06883314-4fe3-4cec-9575-32c75df61330",
   "metadata": {
    "colab": {
     "base_uri": "https://localhost:8080/",
     "height": 34
    },
    "colab_type": "code",
    "id": "cintCwtjk_UB",
    "outputId": "61e37f04-e32b-4cb1-c7d1-6a4f139b7341"
   },
   "outputs": [],
   "source": [
    "mean_squared_error(y_test, dt.predict(X_test))"
   ]
  },
  {
   "cell_type": "code",
   "execution_count": null,
   "id": "ffda8157-6020-4742-9391-fe8e19ddbb99",
   "metadata": {
    "colab": {
     "base_uri": "https://localhost:8080/",
     "height": 431
    },
    "colab_type": "code",
    "id": "v8ou_FlUmcBu",
    "outputId": "3dc58d3d-7af9-4d06-c495-da08090abc27"
   },
   "outputs": [],
   "source": [
    "max_depth_array = range(2, 20)\n",
    "mse_array = []\n",
    "\n",
    "for max_depth in max_depth_array:\n",
    "    dt = DecisionTreeRegressor(max_depth=max_depth, random_state=13)\n",
    "    dt.fit(X_train, y_train)\n",
    "    mse_array.append(mean_squared_error(y_test, dt.predict(X_test)))\n",
    "\n",
    "plt.plot(max_depth_array, mse_array)\n",
    "plt.title(\"Dependence of MSE on max depth\")\n",
    "plt.xlabel(\"max depth\")\n",
    "plt.ylabel(\"MSE\")\n",
    "plt.show()"
   ]
  },
  {
   "cell_type": "code",
   "execution_count": null,
   "id": "6ceebef7-2d4a-4f5d-8c7f-634a2b4fb594",
   "metadata": {
    "colab": {
     "base_uri": "https://localhost:8080/",
     "height": 607
    },
    "colab_type": "code",
    "id": "GQKZpyxsmysH",
    "outputId": "e1d47d5d-01fe-453c-b316-93efd6e9c681"
   },
   "outputs": [],
   "source": [
    "pd.DataFrame({\n",
    "    \"max_depth\": max_depth_array,\n",
    "    \"MSE\": mse_array\n",
    "}).sort_values(by=\"MSE\").reset_index(drop=True)"
   ]
  },
  {
   "cell_type": "code",
   "execution_count": null,
   "id": "ff15246c-9da1-4d32-b6b3-12abbfb421cb",
   "metadata": {
    "colab": {
     "base_uri": "https://localhost:8080/",
     "height": 431
    },
    "colab_type": "code",
    "id": "eJKzzKpcnI4-",
    "outputId": "11fb50a0-0292-41c2-b79c-fa1bc0e26ed8"
   },
   "outputs": [],
   "source": [
    "min_samples_leaf_array = range(1, 20)\n",
    "mse_array = []\n",
    "\n",
    "for min_samples_leaf in min_samples_leaf_array:\n",
    "    dt = DecisionTreeRegressor(max_depth=6, min_samples_leaf=min_samples_leaf, random_state=13)\n",
    "    dt.fit(X_train, y_train)\n",
    "    mse_array.append(mean_squared_error(y_test, dt.predict(X_test)))\n",
    "    \n",
    "plt.plot(min_samples_leaf_array, mse_array)\n",
    "plt.title(\"Dependence of MSE on min samples leaf\")\n",
    "plt.xlabel(\"min samples leaf\")\n",
    "plt.ylabel(\"MSE\")\n",
    "plt.show()"
   ]
  },
  {
   "cell_type": "code",
   "execution_count": null,
   "id": "991be6c9-04b1-4955-a31c-e82d908481ed",
   "metadata": {
    "colab": {
     "base_uri": "https://localhost:8080/",
     "height": 431
    },
    "colab_type": "code",
    "id": "J7_8aCDknl7u",
    "outputId": "f4e35722-4904-4e14-9b0f-4b4054eb7e11"
   },
   "outputs": [],
   "source": [
    "min_samples_split_array = range(2, 20)\n",
    "mse_array = []\n",
    "\n",
    "for min_samples_split in min_samples_split_array:\n",
    "    dt = DecisionTreeRegressor(max_depth=6, min_samples_split=min_samples_split, random_state=13)\n",
    "    dt.fit(X_train, y_train)\n",
    "    mse_array.append(mean_squared_error(y_test, dt.predict(X_test)))\n",
    "\n",
    "plt.plot(min_samples_split_array, mse_array)\n",
    "plt.title(\"Dependence of MSE on min samples split\")\n",
    "plt.xlabel(\"min samples split\")\n",
    "plt.ylabel(\"MSE\")\n",
    "plt.show()"
   ]
  },
  {
   "cell_type": "code",
   "execution_count": null,
   "id": "debaa303-1030-41f7-bd37-c946411953ec",
   "metadata": {
    "colab": {
     "base_uri": "https://localhost:8080/",
     "height": 384
    },
    "colab_type": "code",
    "id": "OPAgS05sk_UC",
    "outputId": "63e4b3b5-1ac2-43f5-df86-57fe06639a19"
   },
   "outputs": [],
   "source": [
    "dt = DecisionTreeRegressor(max_depth=6, random_state=13)\n",
    "dt.fit(X_train, y_train)\n",
    "plot_tree(dt, feature_names=X.columns, filled=True, rounded=True)\n",
    "plt.show()"
   ]
  },
  {
   "cell_type": "code",
   "execution_count": null,
   "id": "6637632f-2a94-45b3-8303-c14ec2dcc54a",
   "metadata": {
    "colab": {
     "base_uri": "https://localhost:8080/",
     "height": 34
    },
    "colab_type": "code",
    "id": "fjdH7H2Hk_UE",
    "outputId": "9ae3294e-a42c-40d9-aa55-0b33a9e4725e"
   },
   "outputs": [],
   "source": [
    "mean_squared_error(y_test, dt.predict(X_test))"
   ]
  },
  {
   "cell_type": "code",
   "execution_count": null,
   "id": "57976a39-dcfa-40b4-9b43-8cae9d442f32",
   "metadata": {
    "colab": {
     "base_uri": "https://localhost:8080/",
     "height": 68
    },
    "colab_type": "code",
    "id": "DxNK1zGYk_UG",
    "outputId": "de0e0c11-8825-4416-cc11-9ddca87cad0d"
   },
   "outputs": [],
   "source": [
    "dt.feature_importances_"
   ]
  },
  {
   "cell_type": "code",
   "execution_count": null,
   "id": "cc7bd9e9-493b-497b-9675-7896aa60277b",
   "metadata": {
    "colab": {
     "base_uri": "https://localhost:8080/",
     "height": 452
    },
    "colab_type": "code",
    "id": "9GtCb9qgk_UH",
    "outputId": "432aad6f-ea04-4a6e-b3ed-d35f5e50735b"
   },
   "outputs": [],
   "source": [
    "pd.DataFrame({\n",
    "    \"feature\": X.columns,\n",
    "    \"importance\": dt.feature_importances_\n",
    "}).sort_values(by=\"importance\", ascending=False).reset_index(drop=True)"
   ]
  },
  {
   "cell_type": "markdown",
   "id": "3f977a62-c355-4c44-8556-6a950ca8d07e",
   "metadata": {},
   "source": [
    "Влияет ли масштабирование признаков на решающее дерево?"
   ]
  },
  {
   "cell_type": "code",
   "execution_count": null,
   "id": "ca9a42b1-1749-4b7d-b405-054cd55a0e6d",
   "metadata": {
    "colab": {
     "base_uri": "https://localhost:8080/",
     "height": 204
    },
    "colab_type": "code",
    "id": "fA9sNUrNk_UL",
    "outputId": "279f45e8-4861-494b-f5e0-6ea2682ad064"
   },
   "outputs": [],
   "source": [
    "from sklearn.preprocessing import StandardScaler\n",
    "\n",
    "sc = StandardScaler()\n",
    "X_train_scaled = pd.DataFrame(sc.fit_transform(X_train), columns=X_train.columns, index=X_train.index)\n",
    "X_test_scaled = pd.DataFrame(sc.transform(X_test), columns=X_test.columns, index=X_test.index)\n",
    "X_train_scaled.head()"
   ]
  },
  {
   "cell_type": "code",
   "execution_count": null,
   "id": "9a8bdb54-1f4a-4d76-af1d-e7122623638f",
   "metadata": {
    "colab": {
     "base_uri": "https://localhost:8080/",
     "height": 51
    },
    "colab_type": "code",
    "id": "q_nS3aRgk_UM",
    "outputId": "0f06d0af-91ff-4bc6-d3bb-4df247d0b08d"
   },
   "outputs": [],
   "source": [
    "print(\"No scaling is applied\\n\")\n",
    "\n",
    "for max_depth in [3, 6]:\n",
    "    dt = DecisionTreeRegressor(max_depth=max_depth, random_state=13)\n",
    "    dt.fit(X_train, y_train)\n",
    "    print(f\"MSE on test set for depth {max_depth}: {mean_squared_error(y_test, dt.predict(X_test)):.2f}\")"
   ]
  },
  {
   "cell_type": "code",
   "execution_count": null,
   "id": "52e8e62a-c03a-4306-b612-84f9914c0c35",
   "metadata": {
    "colab": {
     "base_uri": "https://localhost:8080/",
     "height": 51
    },
    "colab_type": "code",
    "id": "C7OkLotck_UN",
    "outputId": "a4fecdab-ff8f-484b-d3e7-ff7bbc2b9889"
   },
   "outputs": [],
   "source": [
    "print(\"Standard scaling is applied\\n\")\n",
    "\n",
    "for max_depth in [3, 6]:\n",
    "    dt = DecisionTreeRegressor(max_depth=max_depth, random_state=13)\n",
    "    dt.fit(X_train_scaled, y_train)\n",
    "    print(f\"MSE on test set for depth {max_depth}: {mean_squared_error(y_test, dt.predict(X_test_scaled)):.2f}\")"
   ]
  }
 ],
 "metadata": {
  "kernelspec": {
   "display_name": "Python 3 (ipykernel)",
   "language": "python",
   "name": "python3"
  },
  "language_info": {
   "codemirror_mode": {
    "name": "ipython",
    "version": 3
   },
   "file_extension": ".py",
   "mimetype": "text/x-python",
   "name": "python",
   "nbconvert_exporter": "python",
   "pygments_lexer": "ipython3",
   "version": "3.10.11"
  }
 },
 "nbformat": 4,
 "nbformat_minor": 5
}
