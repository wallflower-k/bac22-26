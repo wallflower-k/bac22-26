{
 "cells": [
  {
   "cell_type": "markdown",
   "id": "111582ae-356d-49b6-8f53-faa0adbd2536",
   "metadata": {},
   "source": [
    "Поработаем с датасетом Titanic. Это очень известный датасет для машинного обучения, а нам он пригодится, чтобы попрактиковаться с pandas. "
   ]
  },
  {
   "cell_type": "markdown",
   "id": "0b9b4fd7-30c8-4da8-b767-021e20c2f645",
   "metadata": {},
   "source": [
    "#### Задача 1. \n",
    "\n",
    "Считайте датасет (можно скопировать код из лекции). Выведите первые пять строчек датасета. Посмотрите информацию о датасете. Во-первых, пустые ячейки всегда мешают, а во-вторых, в машинном обучении неудобно работать с текстовыми данными и все стараются превращать в цифры. Давайте попробуем почистить датасет с этой позиции, но разумно: \n",
    "\n",
    "- Пропущенные ячейки возраста, наверное, можно заполнить средним арифметическим\n",
    "- Пол можно заменить на чиселки - 1 для одного варианта и 0 для другого (не у всех пол известен, но там таких мало, можно заменить на тот же 0)\n",
    "- Столбцы Ticket, Cabin и Embarked, скорее всего, содержат не очень интересную информацию: можно от них просто избавиться.\n",
    "- Столбец с именами пока оставим как есть. "
   ]
  },
  {
   "cell_type": "code",
   "execution_count": 19,
   "id": "487a89ca-1389-416b-9573-3c43103e75f4",
   "metadata": {},
   "outputs": [
    {
     "name": "stdout",
     "output_type": "stream",
     "text": [
      "<class 'pandas.core.frame.DataFrame'>\n",
      "RangeIndex: 891 entries, 0 to 890\n",
      "Data columns (total 12 columns):\n",
      " #   Column       Non-Null Count  Dtype  \n",
      "---  ------       --------------  -----  \n",
      " 0   PassengerId  891 non-null    int64  \n",
      " 1   Survived     891 non-null    int64  \n",
      " 2   Pclass       891 non-null    int64  \n",
      " 3   Name         891 non-null    object \n",
      " 4   Sex          891 non-null    object \n",
      " 5   Age          714 non-null    float64\n",
      " 6   SibSp        891 non-null    int64  \n",
      " 7   Parch        891 non-null    int64  \n",
      " 8   Ticket       891 non-null    object \n",
      " 9   Fare         891 non-null    float64\n",
      " 10  Cabin        204 non-null    object \n",
      " 11  Embarked     889 non-null    object \n",
      "dtypes: float64(2), int64(5), object(5)\n",
      "memory usage: 83.7+ KB\n"
     ]
    }
   ],
   "source": [
    "import pandas as pd\n",
    "\n",
    "titanic = pd.read_csv('titanic.csv', sep=';')\n",
    "titanic.head()\n",
    "titanic.info()"
   ]
  },
  {
   "cell_type": "code",
   "execution_count": 21,
   "id": "7ac49f35",
   "metadata": {},
   "outputs": [],
   "source": [
    "#fixing age\n",
    "mid_age = titanic['Age'].mean().astype(int)\n",
    "titanic['Age'] = titanic['Age'].fillna(mid_age)"
   ]
  },
  {
   "cell_type": "code",
   "execution_count": 22,
   "id": "0bb79942",
   "metadata": {},
   "outputs": [
    {
     "name": "stdout",
     "output_type": "stream",
     "text": [
      "<class 'pandas.core.frame.DataFrame'>\n",
      "RangeIndex: 891 entries, 0 to 890\n",
      "Data columns (total 12 columns):\n",
      " #   Column       Non-Null Count  Dtype  \n",
      "---  ------       --------------  -----  \n",
      " 0   PassengerId  891 non-null    int64  \n",
      " 1   Survived     891 non-null    int64  \n",
      " 2   Pclass       891 non-null    int64  \n",
      " 3   Name         891 non-null    object \n",
      " 4   Sex          891 non-null    object \n",
      " 5   Age          891 non-null    float64\n",
      " 6   SibSp        891 non-null    int64  \n",
      " 7   Parch        891 non-null    int64  \n",
      " 8   Ticket       891 non-null    object \n",
      " 9   Fare         891 non-null    float64\n",
      " 10  Cabin        204 non-null    object \n",
      " 11  Embarked     889 non-null    object \n",
      "dtypes: float64(2), int64(5), object(5)\n",
      "memory usage: 83.7+ KB\n"
     ]
    }
   ],
   "source": [
    "#checking\n",
    "titanic.info()"
   ]
  },
  {
   "cell_type": "code",
   "execution_count": null,
   "id": "15d94e30",
   "metadata": {},
   "outputs": [],
   "source": [
    "# fixing sex\n",
    "#titanic.Sex.unique()\n",
    "#unknown, male = 0, female = 1\n",
    "titanic['Sex'] = titanic['Sex'].apply(lambda x: 1 if x == 'female' else 0)"
   ]
  },
  {
   "cell_type": "code",
   "execution_count": null,
   "id": "478e4284",
   "metadata": {},
   "outputs": [],
   "source": [
    "#deleting Ticket, Cabin, Embarked\n",
    "titanic = titanic.drop(['Ticket', 'Cabin', 'Embarked'], axis=1)"
   ]
  },
  {
   "cell_type": "code",
   "execution_count": 39,
   "id": "7a66e440",
   "metadata": {},
   "outputs": [
    {
     "data": {
      "text/html": [
       "<div>\n",
       "<style scoped>\n",
       "    .dataframe tbody tr th:only-of-type {\n",
       "        vertical-align: middle;\n",
       "    }\n",
       "\n",
       "    .dataframe tbody tr th {\n",
       "        vertical-align: top;\n",
       "    }\n",
       "\n",
       "    .dataframe thead th {\n",
       "        text-align: right;\n",
       "    }\n",
       "</style>\n",
       "<table border=\"1\" class=\"dataframe\">\n",
       "  <thead>\n",
       "    <tr style=\"text-align: right;\">\n",
       "      <th></th>\n",
       "      <th>PassengerId</th>\n",
       "      <th>Survived</th>\n",
       "      <th>Pclass</th>\n",
       "      <th>Name</th>\n",
       "      <th>Sex</th>\n",
       "      <th>Age</th>\n",
       "      <th>SibSp</th>\n",
       "      <th>Parch</th>\n",
       "      <th>Fare</th>\n",
       "    </tr>\n",
       "  </thead>\n",
       "  <tbody>\n",
       "    <tr>\n",
       "      <th>0</th>\n",
       "      <td>1</td>\n",
       "      <td>0</td>\n",
       "      <td>3</td>\n",
       "      <td>Braund; Mr. Owen Harris</td>\n",
       "      <td>0</td>\n",
       "      <td>22.0</td>\n",
       "      <td>1</td>\n",
       "      <td>0</td>\n",
       "      <td>7.2500</td>\n",
       "    </tr>\n",
       "    <tr>\n",
       "      <th>1</th>\n",
       "      <td>2</td>\n",
       "      <td>1</td>\n",
       "      <td>1</td>\n",
       "      <td>Cumings; Mrs. John Bradley (Florence Briggs Th...</td>\n",
       "      <td>1</td>\n",
       "      <td>38.0</td>\n",
       "      <td>1</td>\n",
       "      <td>0</td>\n",
       "      <td>71.2833</td>\n",
       "    </tr>\n",
       "    <tr>\n",
       "      <th>2</th>\n",
       "      <td>3</td>\n",
       "      <td>1</td>\n",
       "      <td>3</td>\n",
       "      <td>Heikkinen; Miss. Laina</td>\n",
       "      <td>1</td>\n",
       "      <td>26.0</td>\n",
       "      <td>0</td>\n",
       "      <td>0</td>\n",
       "      <td>7.9250</td>\n",
       "    </tr>\n",
       "    <tr>\n",
       "      <th>3</th>\n",
       "      <td>4</td>\n",
       "      <td>1</td>\n",
       "      <td>1</td>\n",
       "      <td>Futrelle; Mrs. Jacques Heath (Lily May Peel)</td>\n",
       "      <td>1</td>\n",
       "      <td>35.0</td>\n",
       "      <td>1</td>\n",
       "      <td>0</td>\n",
       "      <td>53.1000</td>\n",
       "    </tr>\n",
       "    <tr>\n",
       "      <th>4</th>\n",
       "      <td>5</td>\n",
       "      <td>0</td>\n",
       "      <td>3</td>\n",
       "      <td>Allen; Mr. William Henry</td>\n",
       "      <td>0</td>\n",
       "      <td>35.0</td>\n",
       "      <td>0</td>\n",
       "      <td>0</td>\n",
       "      <td>8.0500</td>\n",
       "    </tr>\n",
       "  </tbody>\n",
       "</table>\n",
       "</div>"
      ],
      "text/plain": [
       "   PassengerId  Survived  Pclass  \\\n",
       "0            1         0       3   \n",
       "1            2         1       1   \n",
       "2            3         1       3   \n",
       "3            4         1       1   \n",
       "4            5         0       3   \n",
       "\n",
       "                                                Name  Sex   Age  SibSp  Parch  \\\n",
       "0                            Braund; Mr. Owen Harris    0  22.0      1      0   \n",
       "1  Cumings; Mrs. John Bradley (Florence Briggs Th...    1  38.0      1      0   \n",
       "2                             Heikkinen; Miss. Laina    1  26.0      0      0   \n",
       "3       Futrelle; Mrs. Jacques Heath (Lily May Peel)    1  35.0      1      0   \n",
       "4                           Allen; Mr. William Henry    0  35.0      0      0   \n",
       "\n",
       "      Fare  \n",
       "0   7.2500  \n",
       "1  71.2833  \n",
       "2   7.9250  \n",
       "3  53.1000  \n",
       "4   8.0500  "
      ]
     },
     "execution_count": 39,
     "metadata": {},
     "output_type": "execute_result"
    }
   ],
   "source": [
    "titanic.head()"
   ]
  },
  {
   "cell_type": "markdown",
   "id": "3edaa6e8-d2b5-4f22-b800-f52d908f7772",
   "metadata": {},
   "source": [
    "#### Задача 2.\n",
    "\n",
    "Сколько пассажиров выжило, а сколько - нет?"
   ]
  },
  {
   "cell_type": "code",
   "execution_count": 47,
   "id": "04e68fa9-5009-4cd8-9e39-5013f7f05f7e",
   "metadata": {},
   "outputs": [
    {
     "name": "stdout",
     "output_type": "stream",
     "text": [
      "Выжило всего человек: 342, погибло: 549.\n"
     ]
    }
   ],
   "source": [
    "survived_amount = titanic['Survived'].sum()\n",
    "unsurvived_amount = len(titanic) - survived_amount\n",
    "print(f'Выжило всего человек: {survived_amount}, погибло: {unsurvived_amount}.')"
   ]
  },
  {
   "cell_type": "markdown",
   "id": "530e5016-ef75-4a1d-a4f6-55b137c23b80",
   "metadata": {},
   "source": [
    "#### Задача 3.\n",
    "\n",
    "Какова доля выживших пассажиров из класса 3? А пассажиров из класса 1? (Доля - это отношение количества выживших пассажиров этого класса к общему количеству выживших пассажиров)"
   ]
  },
  {
   "cell_type": "code",
   "execution_count": 53,
   "id": "34e801c8-063a-4244-8d7e-d3779776b9e7",
   "metadata": {},
   "outputs": [
    {
     "name": "stdout",
     "output_type": "stream",
     "text": [
      "Доля выживших пассажиров из класс 3: 34.80%, пассажиров из класса 1: 39.77%.\n"
     ]
    }
   ],
   "source": [
    "survived_3 = len(titanic[(titanic.Pclass == 3) & (titanic.Survived == 1)]) / survived_amount\n",
    "survived_1 = len(titanic[(titanic.Pclass == 1) & (titanic.Survived == 1)]) / survived_amount\n",
    "print(f'Доля выживших пассажиров из класс 3: {survived_3:.2%}, пассажиров из класса 1: {survived_1:.2%}.')"
   ]
  },
  {
   "cell_type": "markdown",
   "id": "a0a3a270-539a-4089-80d7-b81d3704409d",
   "metadata": {},
   "source": [
    "#### Задача 4.\n",
    "\n",
    "Какова доля выживших женщин из первого класса? А доля выживших мужчин из 3 класса?"
   ]
  },
  {
   "cell_type": "code",
   "execution_count": 56,
   "id": "32a57d7c-f0f9-4389-8ac6-79f5dfc53aad",
   "metadata": {},
   "outputs": [
    {
     "name": "stdout",
     "output_type": "stream",
     "text": [
      "Доля выживших женщин из первого класса: 26.61%, доля выживших мужчин из 3 класс: 14.04%.\n"
     ]
    }
   ],
   "source": [
    "f_1_surv = len(titanic[(titanic.Sex == 1) & (titanic.Survived == 1) & (titanic.Pclass == 1)]) / survived_amount\n",
    "m_3_surv = len(titanic[(titanic.Sex == 0) & (titanic.Survived == 1) & (titanic.Pclass == 3)]) / survived_amount\n",
    "print(f'Доля выживших женщин из первого класса: {f_1_surv:.2%}, доля выживших мужчин из 3 класс: {m_3_surv:.2%}.')"
   ]
  },
  {
   "cell_type": "markdown",
   "id": "ef97c145-3541-4453-9b17-d55d010b7aa9",
   "metadata": {},
   "source": [
    "#### Задача 5. \n",
    "\n",
    "Давайте заведем отдельный столбец с фамилией пассажира. Можно заметить, что в ячейке имени фамилия всегда пишется первой и через точку с запятой. Вам поможет lambda и split."
   ]
  },
  {
   "cell_type": "code",
   "execution_count": 57,
   "id": "978d0e1a",
   "metadata": {},
   "outputs": [
    {
     "data": {
      "text/html": [
       "<div>\n",
       "<style scoped>\n",
       "    .dataframe tbody tr th:only-of-type {\n",
       "        vertical-align: middle;\n",
       "    }\n",
       "\n",
       "    .dataframe tbody tr th {\n",
       "        vertical-align: top;\n",
       "    }\n",
       "\n",
       "    .dataframe thead th {\n",
       "        text-align: right;\n",
       "    }\n",
       "</style>\n",
       "<table border=\"1\" class=\"dataframe\">\n",
       "  <thead>\n",
       "    <tr style=\"text-align: right;\">\n",
       "      <th></th>\n",
       "      <th>PassengerId</th>\n",
       "      <th>Survived</th>\n",
       "      <th>Pclass</th>\n",
       "      <th>Name</th>\n",
       "      <th>Sex</th>\n",
       "      <th>Age</th>\n",
       "      <th>SibSp</th>\n",
       "      <th>Parch</th>\n",
       "      <th>Fare</th>\n",
       "    </tr>\n",
       "  </thead>\n",
       "  <tbody>\n",
       "    <tr>\n",
       "      <th>0</th>\n",
       "      <td>1</td>\n",
       "      <td>0</td>\n",
       "      <td>3</td>\n",
       "      <td>Braund; Mr. Owen Harris</td>\n",
       "      <td>0</td>\n",
       "      <td>22.0</td>\n",
       "      <td>1</td>\n",
       "      <td>0</td>\n",
       "      <td>7.2500</td>\n",
       "    </tr>\n",
       "    <tr>\n",
       "      <th>1</th>\n",
       "      <td>2</td>\n",
       "      <td>1</td>\n",
       "      <td>1</td>\n",
       "      <td>Cumings; Mrs. John Bradley (Florence Briggs Th...</td>\n",
       "      <td>1</td>\n",
       "      <td>38.0</td>\n",
       "      <td>1</td>\n",
       "      <td>0</td>\n",
       "      <td>71.2833</td>\n",
       "    </tr>\n",
       "    <tr>\n",
       "      <th>2</th>\n",
       "      <td>3</td>\n",
       "      <td>1</td>\n",
       "      <td>3</td>\n",
       "      <td>Heikkinen; Miss. Laina</td>\n",
       "      <td>1</td>\n",
       "      <td>26.0</td>\n",
       "      <td>0</td>\n",
       "      <td>0</td>\n",
       "      <td>7.9250</td>\n",
       "    </tr>\n",
       "    <tr>\n",
       "      <th>3</th>\n",
       "      <td>4</td>\n",
       "      <td>1</td>\n",
       "      <td>1</td>\n",
       "      <td>Futrelle; Mrs. Jacques Heath (Lily May Peel)</td>\n",
       "      <td>1</td>\n",
       "      <td>35.0</td>\n",
       "      <td>1</td>\n",
       "      <td>0</td>\n",
       "      <td>53.1000</td>\n",
       "    </tr>\n",
       "    <tr>\n",
       "      <th>4</th>\n",
       "      <td>5</td>\n",
       "      <td>0</td>\n",
       "      <td>3</td>\n",
       "      <td>Allen; Mr. William Henry</td>\n",
       "      <td>0</td>\n",
       "      <td>35.0</td>\n",
       "      <td>0</td>\n",
       "      <td>0</td>\n",
       "      <td>8.0500</td>\n",
       "    </tr>\n",
       "  </tbody>\n",
       "</table>\n",
       "</div>"
      ],
      "text/plain": [
       "   PassengerId  Survived  Pclass  \\\n",
       "0            1         0       3   \n",
       "1            2         1       1   \n",
       "2            3         1       3   \n",
       "3            4         1       1   \n",
       "4            5         0       3   \n",
       "\n",
       "                                                Name  Sex   Age  SibSp  Parch  \\\n",
       "0                            Braund; Mr. Owen Harris    0  22.0      1      0   \n",
       "1  Cumings; Mrs. John Bradley (Florence Briggs Th...    1  38.0      1      0   \n",
       "2                             Heikkinen; Miss. Laina    1  26.0      0      0   \n",
       "3       Futrelle; Mrs. Jacques Heath (Lily May Peel)    1  35.0      1      0   \n",
       "4                           Allen; Mr. William Henry    0  35.0      0      0   \n",
       "\n",
       "      Fare  \n",
       "0   7.2500  \n",
       "1  71.2833  \n",
       "2   7.9250  \n",
       "3  53.1000  \n",
       "4   8.0500  "
      ]
     },
     "execution_count": 57,
     "metadata": {},
     "output_type": "execute_result"
    }
   ],
   "source": [
    "titanic.head()"
   ]
  },
  {
   "cell_type": "code",
   "execution_count": 58,
   "id": "eda9d0e3-41ee-4011-abad-8b4552f2fc4a",
   "metadata": {},
   "outputs": [
    {
     "data": {
      "text/html": [
       "<div>\n",
       "<style scoped>\n",
       "    .dataframe tbody tr th:only-of-type {\n",
       "        vertical-align: middle;\n",
       "    }\n",
       "\n",
       "    .dataframe tbody tr th {\n",
       "        vertical-align: top;\n",
       "    }\n",
       "\n",
       "    .dataframe thead th {\n",
       "        text-align: right;\n",
       "    }\n",
       "</style>\n",
       "<table border=\"1\" class=\"dataframe\">\n",
       "  <thead>\n",
       "    <tr style=\"text-align: right;\">\n",
       "      <th></th>\n",
       "      <th>PassengerId</th>\n",
       "      <th>Survived</th>\n",
       "      <th>Pclass</th>\n",
       "      <th>Name</th>\n",
       "      <th>Sex</th>\n",
       "      <th>Age</th>\n",
       "      <th>SibSp</th>\n",
       "      <th>Parch</th>\n",
       "      <th>Fare</th>\n",
       "      <th>Surname</th>\n",
       "    </tr>\n",
       "  </thead>\n",
       "  <tbody>\n",
       "    <tr>\n",
       "      <th>0</th>\n",
       "      <td>1</td>\n",
       "      <td>0</td>\n",
       "      <td>3</td>\n",
       "      <td>Braund; Mr. Owen Harris</td>\n",
       "      <td>0</td>\n",
       "      <td>22.0</td>\n",
       "      <td>1</td>\n",
       "      <td>0</td>\n",
       "      <td>7.2500</td>\n",
       "      <td>Braund</td>\n",
       "    </tr>\n",
       "    <tr>\n",
       "      <th>1</th>\n",
       "      <td>2</td>\n",
       "      <td>1</td>\n",
       "      <td>1</td>\n",
       "      <td>Cumings; Mrs. John Bradley (Florence Briggs Th...</td>\n",
       "      <td>1</td>\n",
       "      <td>38.0</td>\n",
       "      <td>1</td>\n",
       "      <td>0</td>\n",
       "      <td>71.2833</td>\n",
       "      <td>Cumings</td>\n",
       "    </tr>\n",
       "    <tr>\n",
       "      <th>2</th>\n",
       "      <td>3</td>\n",
       "      <td>1</td>\n",
       "      <td>3</td>\n",
       "      <td>Heikkinen; Miss. Laina</td>\n",
       "      <td>1</td>\n",
       "      <td>26.0</td>\n",
       "      <td>0</td>\n",
       "      <td>0</td>\n",
       "      <td>7.9250</td>\n",
       "      <td>Heikkinen</td>\n",
       "    </tr>\n",
       "    <tr>\n",
       "      <th>3</th>\n",
       "      <td>4</td>\n",
       "      <td>1</td>\n",
       "      <td>1</td>\n",
       "      <td>Futrelle; Mrs. Jacques Heath (Lily May Peel)</td>\n",
       "      <td>1</td>\n",
       "      <td>35.0</td>\n",
       "      <td>1</td>\n",
       "      <td>0</td>\n",
       "      <td>53.1000</td>\n",
       "      <td>Futrelle</td>\n",
       "    </tr>\n",
       "    <tr>\n",
       "      <th>4</th>\n",
       "      <td>5</td>\n",
       "      <td>0</td>\n",
       "      <td>3</td>\n",
       "      <td>Allen; Mr. William Henry</td>\n",
       "      <td>0</td>\n",
       "      <td>35.0</td>\n",
       "      <td>0</td>\n",
       "      <td>0</td>\n",
       "      <td>8.0500</td>\n",
       "      <td>Allen</td>\n",
       "    </tr>\n",
       "  </tbody>\n",
       "</table>\n",
       "</div>"
      ],
      "text/plain": [
       "   PassengerId  Survived  Pclass  \\\n",
       "0            1         0       3   \n",
       "1            2         1       1   \n",
       "2            3         1       3   \n",
       "3            4         1       1   \n",
       "4            5         0       3   \n",
       "\n",
       "                                                Name  Sex   Age  SibSp  Parch  \\\n",
       "0                            Braund; Mr. Owen Harris    0  22.0      1      0   \n",
       "1  Cumings; Mrs. John Bradley (Florence Briggs Th...    1  38.0      1      0   \n",
       "2                             Heikkinen; Miss. Laina    1  26.0      0      0   \n",
       "3       Futrelle; Mrs. Jacques Heath (Lily May Peel)    1  35.0      1      0   \n",
       "4                           Allen; Mr. William Henry    0  35.0      0      0   \n",
       "\n",
       "      Fare    Surname  \n",
       "0   7.2500     Braund  \n",
       "1  71.2833    Cumings  \n",
       "2   7.9250  Heikkinen  \n",
       "3  53.1000   Futrelle  \n",
       "4   8.0500      Allen  "
      ]
     },
     "execution_count": 58,
     "metadata": {},
     "output_type": "execute_result"
    }
   ],
   "source": [
    "titanic['Surname'] = titanic['Name'].apply(lambda x: x.split(';')[0])\n",
    "titanic.head()"
   ]
  },
  {
   "cell_type": "markdown",
   "id": "6d56ebea-28d1-4458-9fc0-ba8389ec233d",
   "metadata": {},
   "source": [
    "#### Задача 6.\n",
    "\n",
    "Сколько всего получилось семей? Сколько человек в каждой семье? Сколько семей, в которых больше трех человек?"
   ]
  },
  {
   "cell_type": "code",
   "execution_count": null,
   "id": "366a2d6d-b492-4baf-9b57-5f33808f3c65",
   "metadata": {},
   "outputs": [
    {
     "data": {
      "text/plain": [
       "array([1, 0, 3, 4, 2, 5, 8])"
      ]
     },
     "execution_count": 59,
     "metadata": {},
     "output_type": "execute_result"
    }
   ],
   "source": [
    "#sibsp = Number of Siblings/Spouses Aboard\n",
    "# parch - Number of Parents/Children Aboard\n",
    "titanic.SibSp.unique()"
   ]
  },
  {
   "cell_type": "code",
   "execution_count": 63,
   "id": "2cb39a35",
   "metadata": {},
   "outputs": [
    {
     "data": {
      "text/plain": [
       "array([0, 1, 2, 5, 3, 4, 6])"
      ]
     },
     "execution_count": 63,
     "metadata": {},
     "output_type": "execute_result"
    }
   ],
   "source": [
    "titanic.Parch.unique()"
   ]
  },
  {
   "cell_type": "code",
   "execution_count": 90,
   "id": "c939a265",
   "metadata": {},
   "outputs": [
    {
     "name": "stdout",
     "output_type": "stream",
     "text": [
      "Всего семей: 208\n"
     ]
    }
   ],
   "source": [
    "titanic['Family'] = titanic['SibSp'] + titanic['Parch'] + 1\n",
    "families = titanic[titanic['Family'] > 1].groupby(['Surname', 'Fare', 'Family'])\n",
    "fam_amount = len(families)\n",
    "print('Всего семей:', fam_amount)"
   ]
  },
  {
   "cell_type": "code",
   "execution_count": 86,
   "id": "42ceac8a",
   "metadata": {},
   "outputs": [
    {
     "name": "stdout",
     "output_type": "stream",
     "text": [
      "Количество человек в каждой семье:\n",
      "Surname         Fare      Family\n",
      "Abbott          20.2500   3         3.0\n",
      "Abelson         24.0000   2         2.0\n",
      "Ahlin           9.4750    2         2.0\n",
      "Aks             9.3500    2         2.0\n",
      "Allison         151.5500  4         4.0\n",
      "                                   ... \n",
      "Yasbeck         14.4542   2         2.0\n",
      "Zabour          14.4542   2         2.0\n",
      "de Messemaeker  17.4000   2         2.0\n",
      "del Carlo       27.7208   2         2.0\n",
      "van Billiard    14.5000   3         3.0\n",
      "Name: Family, Length: 208, dtype: float64\n"
     ]
    }
   ],
   "source": [
    "print('Количество человек в каждой семье:')\n",
    "print(families['Family'].mean(numeric_only=True))"
   ]
  },
  {
   "cell_type": "code",
   "execution_count": 87,
   "id": "8ad469f5",
   "metadata": {},
   "outputs": [
    {
     "name": "stdout",
     "output_type": "stream",
     "text": [
      "Kоличество семей, в которых больше трех человек:\n",
      "28\n"
     ]
    }
   ],
   "source": [
    "print('Kоличество семей, в которых больше трех человек:')\n",
    "families = titanic[titanic['Family'] > 3].groupby(['Surname', 'Fare', 'Family'])\n",
    "print(len(families['Family'].mean(numeric_only=True)))"
   ]
  },
  {
   "cell_type": "markdown",
   "id": "6ff20e2a-3ef4-4ed1-84ae-cb28bdbe7b9b",
   "metadata": {},
   "source": [
    "#### Задача 7.\n",
    "\n",
    "Создайте столбец \"IsChild\", который равен 1, если возраст меньше 20, и 0 иначе. "
   ]
  },
  {
   "cell_type": "code",
   "execution_count": 89,
   "id": "aca43592-b500-45da-8260-231d8f9d96bc",
   "metadata": {},
   "outputs": [
    {
     "data": {
      "text/html": [
       "<div>\n",
       "<style scoped>\n",
       "    .dataframe tbody tr th:only-of-type {\n",
       "        vertical-align: middle;\n",
       "    }\n",
       "\n",
       "    .dataframe tbody tr th {\n",
       "        vertical-align: top;\n",
       "    }\n",
       "\n",
       "    .dataframe thead th {\n",
       "        text-align: right;\n",
       "    }\n",
       "</style>\n",
       "<table border=\"1\" class=\"dataframe\">\n",
       "  <thead>\n",
       "    <tr style=\"text-align: right;\">\n",
       "      <th></th>\n",
       "      <th>PassengerId</th>\n",
       "      <th>Survived</th>\n",
       "      <th>Pclass</th>\n",
       "      <th>Name</th>\n",
       "      <th>Sex</th>\n",
       "      <th>Age</th>\n",
       "      <th>SibSp</th>\n",
       "      <th>Parch</th>\n",
       "      <th>Fare</th>\n",
       "      <th>Surname</th>\n",
       "      <th>Family</th>\n",
       "      <th>IsChild</th>\n",
       "    </tr>\n",
       "  </thead>\n",
       "  <tbody>\n",
       "    <tr>\n",
       "      <th>0</th>\n",
       "      <td>1</td>\n",
       "      <td>0</td>\n",
       "      <td>3</td>\n",
       "      <td>Braund; Mr. Owen Harris</td>\n",
       "      <td>0</td>\n",
       "      <td>22.0</td>\n",
       "      <td>1</td>\n",
       "      <td>0</td>\n",
       "      <td>7.2500</td>\n",
       "      <td>Braund</td>\n",
       "      <td>2</td>\n",
       "      <td>0</td>\n",
       "    </tr>\n",
       "    <tr>\n",
       "      <th>1</th>\n",
       "      <td>2</td>\n",
       "      <td>1</td>\n",
       "      <td>1</td>\n",
       "      <td>Cumings; Mrs. John Bradley (Florence Briggs Th...</td>\n",
       "      <td>1</td>\n",
       "      <td>38.0</td>\n",
       "      <td>1</td>\n",
       "      <td>0</td>\n",
       "      <td>71.2833</td>\n",
       "      <td>Cumings</td>\n",
       "      <td>2</td>\n",
       "      <td>0</td>\n",
       "    </tr>\n",
       "    <tr>\n",
       "      <th>2</th>\n",
       "      <td>3</td>\n",
       "      <td>1</td>\n",
       "      <td>3</td>\n",
       "      <td>Heikkinen; Miss. Laina</td>\n",
       "      <td>1</td>\n",
       "      <td>26.0</td>\n",
       "      <td>0</td>\n",
       "      <td>0</td>\n",
       "      <td>7.9250</td>\n",
       "      <td>Heikkinen</td>\n",
       "      <td>1</td>\n",
       "      <td>0</td>\n",
       "    </tr>\n",
       "    <tr>\n",
       "      <th>3</th>\n",
       "      <td>4</td>\n",
       "      <td>1</td>\n",
       "      <td>1</td>\n",
       "      <td>Futrelle; Mrs. Jacques Heath (Lily May Peel)</td>\n",
       "      <td>1</td>\n",
       "      <td>35.0</td>\n",
       "      <td>1</td>\n",
       "      <td>0</td>\n",
       "      <td>53.1000</td>\n",
       "      <td>Futrelle</td>\n",
       "      <td>2</td>\n",
       "      <td>0</td>\n",
       "    </tr>\n",
       "    <tr>\n",
       "      <th>4</th>\n",
       "      <td>5</td>\n",
       "      <td>0</td>\n",
       "      <td>3</td>\n",
       "      <td>Allen; Mr. William Henry</td>\n",
       "      <td>0</td>\n",
       "      <td>35.0</td>\n",
       "      <td>0</td>\n",
       "      <td>0</td>\n",
       "      <td>8.0500</td>\n",
       "      <td>Allen</td>\n",
       "      <td>1</td>\n",
       "      <td>0</td>\n",
       "    </tr>\n",
       "    <tr>\n",
       "      <th>...</th>\n",
       "      <td>...</td>\n",
       "      <td>...</td>\n",
       "      <td>...</td>\n",
       "      <td>...</td>\n",
       "      <td>...</td>\n",
       "      <td>...</td>\n",
       "      <td>...</td>\n",
       "      <td>...</td>\n",
       "      <td>...</td>\n",
       "      <td>...</td>\n",
       "      <td>...</td>\n",
       "      <td>...</td>\n",
       "    </tr>\n",
       "    <tr>\n",
       "      <th>886</th>\n",
       "      <td>887</td>\n",
       "      <td>0</td>\n",
       "      <td>2</td>\n",
       "      <td>Montvila; Rev. Juozas</td>\n",
       "      <td>0</td>\n",
       "      <td>27.0</td>\n",
       "      <td>0</td>\n",
       "      <td>0</td>\n",
       "      <td>13.0000</td>\n",
       "      <td>Montvila</td>\n",
       "      <td>1</td>\n",
       "      <td>0</td>\n",
       "    </tr>\n",
       "    <tr>\n",
       "      <th>887</th>\n",
       "      <td>888</td>\n",
       "      <td>1</td>\n",
       "      <td>1</td>\n",
       "      <td>Graham; Miss. Margaret Edith</td>\n",
       "      <td>1</td>\n",
       "      <td>19.0</td>\n",
       "      <td>0</td>\n",
       "      <td>0</td>\n",
       "      <td>30.0000</td>\n",
       "      <td>Graham</td>\n",
       "      <td>1</td>\n",
       "      <td>1</td>\n",
       "    </tr>\n",
       "    <tr>\n",
       "      <th>888</th>\n",
       "      <td>889</td>\n",
       "      <td>0</td>\n",
       "      <td>3</td>\n",
       "      <td>Johnston; Miss. Catherine Helen \"Carrie\"</td>\n",
       "      <td>1</td>\n",
       "      <td>29.0</td>\n",
       "      <td>1</td>\n",
       "      <td>2</td>\n",
       "      <td>23.4500</td>\n",
       "      <td>Johnston</td>\n",
       "      <td>4</td>\n",
       "      <td>0</td>\n",
       "    </tr>\n",
       "    <tr>\n",
       "      <th>889</th>\n",
       "      <td>890</td>\n",
       "      <td>1</td>\n",
       "      <td>1</td>\n",
       "      <td>Behr; Mr. Karl Howell</td>\n",
       "      <td>0</td>\n",
       "      <td>26.0</td>\n",
       "      <td>0</td>\n",
       "      <td>0</td>\n",
       "      <td>30.0000</td>\n",
       "      <td>Behr</td>\n",
       "      <td>1</td>\n",
       "      <td>0</td>\n",
       "    </tr>\n",
       "    <tr>\n",
       "      <th>890</th>\n",
       "      <td>891</td>\n",
       "      <td>0</td>\n",
       "      <td>3</td>\n",
       "      <td>Dooley; Mr. Patrick</td>\n",
       "      <td>0</td>\n",
       "      <td>32.0</td>\n",
       "      <td>0</td>\n",
       "      <td>0</td>\n",
       "      <td>7.7500</td>\n",
       "      <td>Dooley</td>\n",
       "      <td>1</td>\n",
       "      <td>0</td>\n",
       "    </tr>\n",
       "  </tbody>\n",
       "</table>\n",
       "<p>891 rows × 12 columns</p>\n",
       "</div>"
      ],
      "text/plain": [
       "     PassengerId  Survived  Pclass  \\\n",
       "0              1         0       3   \n",
       "1              2         1       1   \n",
       "2              3         1       3   \n",
       "3              4         1       1   \n",
       "4              5         0       3   \n",
       "..           ...       ...     ...   \n",
       "886          887         0       2   \n",
       "887          888         1       1   \n",
       "888          889         0       3   \n",
       "889          890         1       1   \n",
       "890          891         0       3   \n",
       "\n",
       "                                                  Name  Sex   Age  SibSp  \\\n",
       "0                              Braund; Mr. Owen Harris    0  22.0      1   \n",
       "1    Cumings; Mrs. John Bradley (Florence Briggs Th...    1  38.0      1   \n",
       "2                               Heikkinen; Miss. Laina    1  26.0      0   \n",
       "3         Futrelle; Mrs. Jacques Heath (Lily May Peel)    1  35.0      1   \n",
       "4                             Allen; Mr. William Henry    0  35.0      0   \n",
       "..                                                 ...  ...   ...    ...   \n",
       "886                              Montvila; Rev. Juozas    0  27.0      0   \n",
       "887                       Graham; Miss. Margaret Edith    1  19.0      0   \n",
       "888           Johnston; Miss. Catherine Helen \"Carrie\"    1  29.0      1   \n",
       "889                              Behr; Mr. Karl Howell    0  26.0      0   \n",
       "890                                Dooley; Mr. Patrick    0  32.0      0   \n",
       "\n",
       "     Parch     Fare    Surname  Family  IsChild  \n",
       "0        0   7.2500     Braund       2        0  \n",
       "1        0  71.2833    Cumings       2        0  \n",
       "2        0   7.9250  Heikkinen       1        0  \n",
       "3        0  53.1000   Futrelle       2        0  \n",
       "4        0   8.0500      Allen       1        0  \n",
       "..     ...      ...        ...     ...      ...  \n",
       "886      0  13.0000   Montvila       1        0  \n",
       "887      0  30.0000     Graham       1        1  \n",
       "888      2  23.4500   Johnston       4        0  \n",
       "889      0  30.0000       Behr       1        0  \n",
       "890      0   7.7500     Dooley       1        0  \n",
       "\n",
       "[891 rows x 12 columns]"
      ]
     },
     "execution_count": 89,
     "metadata": {},
     "output_type": "execute_result"
    }
   ],
   "source": [
    "titanic['IsChild'] = titanic['Age'].apply(lambda x: 1 if x < 20 else 0)\n",
    "titanic"
   ]
  },
  {
   "cell_type": "markdown",
   "id": "db330963-45e7-4f37-9261-ccf26ae0f236",
   "metadata": {},
   "source": [
    "#### Задача 8.\n",
    "\n",
    "Какова доля семей, в которых минимальный возраст меньше 20 (семьи с детьми)? По отношению к общему количеству семей."
   ]
  },
  {
   "cell_type": "code",
   "execution_count": 112,
   "id": "a21e78f6-701c-4771-ba52-985b28b6794b",
   "metadata": {},
   "outputs": [
    {
     "name": "stdout",
     "output_type": "stream",
     "text": [
      "Доля семей, в которых мин возраст меньше 20: 35.58%\n"
     ]
    }
   ],
   "source": [
    "# fam_amount\n",
    "child_families = len(titanic[(titanic['Family'] > 1) & (titanic['IsChild'] > 0)].groupby(['Surname', 'Fare', 'Family']))\n",
    "print(f'Доля семей, в которых мин возраст меньше 20: {child_families/fam_amount:.2%}')\n"
   ]
  }
 ],
 "metadata": {
  "kernelspec": {
   "display_name": "Python 3",
   "language": "python",
   "name": "python3"
  },
  "language_info": {
   "codemirror_mode": {
    "name": "ipython",
    "version": 3
   },
   "file_extension": ".py",
   "mimetype": "text/x-python",
   "name": "python",
   "nbconvert_exporter": "python",
   "pygments_lexer": "ipython3",
   "version": "3.11.9"
  }
 },
 "nbformat": 4,
 "nbformat_minor": 5
}
