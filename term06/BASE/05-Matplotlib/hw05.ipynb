{
 "cells": [
  {
   "cell_type": "markdown",
   "id": "5c6732c0-4844-4da8-b77e-127f725ffeaf",
   "metadata": {},
   "source": [
    "#### Задача 1 (5 баллов). \n",
    "\n",
    "Напишите игрушку Тамагочи (достаточно одного типа животного, но если пропишете классы еще для парочки, будет хорошо). Вам понадобятся модули random и sleep. У класса животного должны быть методы \"спать\", \"играть\" и \"есть\", а в атрибутах должны быть характеристики, например, \"сытость\" и \"усталость\". Лучше всего будет написать второй класс Game, в котором будет метод \"играть\", а экземпляр класса для выбранного животного будет храниться в его атрибутах. В процессе игры пользователь в цикле выбирает, что ему делать с животным (этот цикл может быть внутри метода \"играть\"). Воспользуйтесь ipywidgets для того, чтобы при запуске методов животного показывать, как проходит время и как пополняется или уменьшается какая-то из характеристик животного. "
   ]
  },
  {
   "cell_type": "code",
   "execution_count": 19,
   "id": "86c31c8f-ccbe-4b7c-9497-ff26c3b26678",
   "metadata": {},
   "outputs": [
    {
     "name": "stdout",
     "output_type": "stream",
     "text": [
      "Выберите, что вы хотите сделать\n",
      "\t0 - выйти\n",
      "\t1 - покормить\n",
      "\t2 - уложить спать\n",
      "\t3 - поиграть\n",
      "\t4 - вывести состояние кота\n",
      "Мурка начинает есть...\n"
     ]
    },
    {
     "data": {
      "application/vnd.jupyter.widget-view+json": {
       "model_id": "e369f58f752442e49ccadc8cb92dba2d",
       "version_major": 2,
       "version_minor": 0
      },
      "text/plain": [
       "IntProgress(value=0)"
      ]
     },
     "metadata": {},
     "output_type": "display_data"
    },
    {
     "name": "stdout",
     "output_type": "stream",
     "text": [
      "Мурка поел!\n",
      "Выберите, что вы хотите сделать\n",
      "\t0 - выйти\n",
      "\t1 - покормить\n",
      "\t2 - уложить спать\n",
      "\t3 - поиграть\n",
      "\t4 - вывести состояние кота\n",
      "Мурка еще не хочет есть. Не надо перекармливать!\n",
      "Выберите, что вы хотите сделать\n",
      "\t0 - выйти\n",
      "\t1 - покормить\n",
      "\t2 - уложить спать\n",
      "\t3 - поиграть\n",
      "\t4 - вывести состояние кота\n",
      "Уровень усталости: \n"
     ]
    },
    {
     "data": {
      "application/vnd.jupyter.widget-view+json": {
       "model_id": "7335fbb260534602b4491a229d76337c",
       "version_major": 2,
       "version_minor": 0
      },
      "text/plain": [
       "IntProgress(value=0)"
      ]
     },
     "metadata": {},
     "output_type": "display_data"
    },
    {
     "name": "stdout",
     "output_type": "stream",
     "text": [
      "Уровень сытости: \n"
     ]
    },
    {
     "data": {
      "application/vnd.jupyter.widget-view+json": {
       "model_id": "8de48b96a79246299b5d8ad712d19c93",
       "version_major": 2,
       "version_minor": 0
      },
      "text/plain": [
       "IntProgress(value=0)"
      ]
     },
     "metadata": {},
     "output_type": "display_data"
    },
    {
     "name": "stdout",
     "output_type": "stream",
     "text": [
      "Выберите, что вы хотите сделать\n",
      "\t0 - выйти\n",
      "\t1 - покормить\n",
      "\t2 - уложить спать\n",
      "\t3 - поиграть\n",
      "\t4 - вывести состояние кота\n",
      "Мурка начинает играть...\n",
      "Уровень усталости: \n"
     ]
    },
    {
     "data": {
      "application/vnd.jupyter.widget-view+json": {
       "model_id": "bf6ebc9315a84cef93ebe32f9fc31999",
       "version_major": 2,
       "version_minor": 0
      },
      "text/plain": [
       "IntProgress(value=0)"
      ]
     },
     "metadata": {},
     "output_type": "display_data"
    },
    {
     "name": "stdout",
     "output_type": "stream",
     "text": [
      "Мурка закончил играться!\n",
      "Выберите, что вы хотите сделать\n",
      "\t0 - выйти\n",
      "\t1 - покормить\n",
      "\t2 - уложить спать\n",
      "\t3 - поиграть\n",
      "\t4 - вывести состояние кота\n",
      "Мурка заснул...\n"
     ]
    },
    {
     "data": {
      "application/vnd.jupyter.widget-view+json": {
       "model_id": "dde211c15c354f9982b36a586adc8f2e",
       "version_major": 2,
       "version_minor": 0
      },
      "text/plain": [
       "IntProgress(value=0)"
      ]
     },
     "metadata": {},
     "output_type": "display_data"
    },
    {
     "name": "stdout",
     "output_type": "stream",
     "text": [
      "Мурка проснулся!\n",
      "Выберите, что вы хотите сделать\n",
      "\t0 - выйти\n",
      "\t1 - покормить\n",
      "\t2 - уложить спать\n",
      "\t3 - поиграть\n",
      "\t4 - вывести состояние кота\n",
      "Уровень усталости: \n"
     ]
    },
    {
     "data": {
      "application/vnd.jupyter.widget-view+json": {
       "model_id": "ec62f8a7a6824972bcb748946af148c0",
       "version_major": 2,
       "version_minor": 0
      },
      "text/plain": [
       "IntProgress(value=0)"
      ]
     },
     "metadata": {},
     "output_type": "display_data"
    },
    {
     "name": "stdout",
     "output_type": "stream",
     "text": [
      "Уровень сытости: \n"
     ]
    },
    {
     "data": {
      "application/vnd.jupyter.widget-view+json": {
       "model_id": "876afebd990b4df69a8484a969c70732",
       "version_major": 2,
       "version_minor": 0
      },
      "text/plain": [
       "IntProgress(value=0)"
      ]
     },
     "metadata": {},
     "output_type": "display_data"
    },
    {
     "name": "stdout",
     "output_type": "stream",
     "text": [
      "Выберите, что вы хотите сделать\n",
      "\t0 - выйти\n",
      "\t1 - покормить\n",
      "\t2 - уложить спать\n",
      "\t3 - поиграть\n",
      "\t4 - вывести состояние кота\n",
      "Мурка начинает есть...\n"
     ]
    },
    {
     "data": {
      "application/vnd.jupyter.widget-view+json": {
       "model_id": "e38a6ee015024514aec7f35f700379ec",
       "version_major": 2,
       "version_minor": 0
      },
      "text/plain": [
       "IntProgress(value=0)"
      ]
     },
     "metadata": {},
     "output_type": "display_data"
    },
    {
     "name": "stdout",
     "output_type": "stream",
     "text": [
      "Мурка поел!\n",
      "Выберите, что вы хотите сделать\n",
      "\t0 - выйти\n",
      "\t1 - покормить\n",
      "\t2 - уложить спать\n",
      "\t3 - поиграть\n",
      "\t4 - вывести состояние кота\n",
      "Уровень усталости: \n"
     ]
    },
    {
     "data": {
      "application/vnd.jupyter.widget-view+json": {
       "model_id": "4a41cbeece164552a4e7604618743763",
       "version_major": 2,
       "version_minor": 0
      },
      "text/plain": [
       "IntProgress(value=0)"
      ]
     },
     "metadata": {},
     "output_type": "display_data"
    },
    {
     "name": "stdout",
     "output_type": "stream",
     "text": [
      "Уровень сытости: \n"
     ]
    },
    {
     "data": {
      "application/vnd.jupyter.widget-view+json": {
       "model_id": "056e89b0e6074c528aace111725a40f6",
       "version_major": 2,
       "version_minor": 0
      },
      "text/plain": [
       "IntProgress(value=0)"
      ]
     },
     "metadata": {},
     "output_type": "display_data"
    },
    {
     "name": "stdout",
     "output_type": "stream",
     "text": [
      "Выберите, что вы хотите сделать\n",
      "\t0 - выйти\n",
      "\t1 - покормить\n",
      "\t2 - уложить спать\n",
      "\t3 - поиграть\n",
      "\t4 - вывести состояние кота\n"
     ]
    }
   ],
   "source": [
    "# class: animal => method: sleep, play, eat; attributes: not_hungry, tiredness. class: Game => method: play\n",
    "import random\n",
    "from ipywidgets import IntProgress\n",
    "import time\n",
    "from IPython.display import display\n",
    "\n",
    "\n",
    "class Cat: #fullness, fatigue, methods: sleep, play, eat\n",
    "    def __init__(self, name):\n",
    "        self.name = name\n",
    "        self.fullness = 50\n",
    "        self.fatigue = 50\n",
    "\n",
    "    def eating(self):\n",
    "        if self.fullness < 100:\n",
    "            print(f'{self.name} начинает есть...')\n",
    "            widget = IntProgress(min=0, max=100)\n",
    "            display(widget)\n",
    "            widget.value = self.fullness\n",
    "            while self.fullness < 100:\n",
    "                widget.value += 1\n",
    "                self.fullness += 1\n",
    "                time.sleep(0.1)\n",
    "            print(f'{self.name} поел!')\n",
    "            self.fatigue -= 10\n",
    "        else:\n",
    "            print(f'{self.name} еще не хочет есть. Не надо перекармливать!')\n",
    "\n",
    "    def sleeping(self):\n",
    "        print(f'{self.name} заснул...')\n",
    "        widget = IntProgress(min=0, max=100)\n",
    "        display(widget)\n",
    "        while self.fatigue > 0:\n",
    "            widget.value += 1\n",
    "            self.fatigue -= 1\n",
    "            time.sleep(0.1)\n",
    "        print(f'{self.name} проснулся!')\n",
    "        self.fullness -= 40\n",
    "    \n",
    "    def playing(self):\n",
    "        if self.fullness > 0 and self.fatigue < 100:\n",
    "            print(f'{self.name} начинает играть...')\n",
    "            print('Уровень усталости: ')\n",
    "            widget = IntProgress(min=0, max=100)\n",
    "            display(widget)\n",
    "            widget.value = 100-self.fatigue\n",
    "            max_fatigue = self.fatigue + 60\n",
    "            while self.fatigue < max_fatigue:\n",
    "                widget.value += 1\n",
    "                self.fatigue += 1\n",
    "                time.sleep(0.1)\n",
    "            print(f'{self.name} закончил играться!')\n",
    "            self.fullness -= 50\n",
    "        else:\n",
    "            print(f'Кажется, {self.name} не в состоянии играть. Проверьте состояние вашего кота!')\n",
    "\n",
    "    def statistique(self):\n",
    "        print('Уровень усталости: ')\n",
    "        widget_fa = IntProgress(min=0, max=100)\n",
    "        display(widget_fa)\n",
    "        widget_fa.value = self.fatigue\n",
    "        print('Уровень сытости: ')\n",
    "        widget_fu = IntProgress(min=0, max=100)\n",
    "        display(widget_fu)\n",
    "        widget_fu.value = self.fullness\n",
    "\n",
    "\n",
    "class Game:\n",
    "    def __init__(self, pet):\n",
    "        self.pet = pet\n",
    "\n",
    "    def play(self):\n",
    "        while True:\n",
    "            print('Выберите, что вы хотите сделать\\n\\t0 - выйти\\n\\t1 - покормить\\n\\t2 - уложить спать\\n\\t3 - поиграть\\n\\t4 - вывести состояние кота')\n",
    "            user = int(input())\n",
    "            if user == 0: #exit\n",
    "                break\n",
    "            elif user == 1: #feed\n",
    "                cat.eating()\n",
    "            elif user == 2: #sleep + CAUS\n",
    "                cat.sleeping()\n",
    "            elif user == 3: #play\n",
    "                cat.playing()\n",
    "            elif user == 4: #statistique\n",
    "                cat.statistique()\n",
    "            else:\n",
    "                print('Такой команды нет.')\n",
    "\n",
    "cat = Cat(input('Введите кличку коту'))\n",
    "game = Game(cat)\n",
    "game.play()\n"
   ]
  },
  {
   "cell_type": "markdown",
   "id": "7ff91a87-3e4c-4208-a48b-2af6cee3878f",
   "metadata": {},
   "source": [
    "#### Задача 2 (5 баллов).\n",
    "\n",
    "Возьмите любой достаточно большой текст (в текстовом файле!), желательно минимум рассказ, а лучше полноценный роман. Поделите его на слова и посчитайте для него статистику по количеству слов: сколько раз встретилось какое слово. Напишите функцию, которая будет отрисовывать на графике (столбцовая диаграмма подойдет) частоты для n самых частотных слов, при этом добавьте функции интерактивность и возможность выбирать n. "
   ]
  },
  {
   "cell_type": "code",
   "execution_count": null,
   "id": "d859ca58-9986-40a5-93f6-90e6f7e236f4",
   "metadata": {},
   "outputs": [
    {
     "data": {
      "application/vnd.jupyter.widget-view+json": {
       "model_id": "06cdd8db9bea4e68a803350657e57414",
       "version_major": 2,
       "version_minor": 0
      },
      "text/plain": [
       "interactive(children=(Dropdown(description='n', options=(1, 2, 3, 4, 5, 6, 7, 8, 9, 10, 11, 12, 13, 14, 15), v…"
      ]
     },
     "metadata": {},
     "output_type": "display_data"
    }
   ],
   "source": [
    "from collections import defaultdict\n",
    "from string import punctuation\n",
    "from ipywidgets import interact\n",
    "import matplotlib.pyplot as plt\n",
    "\n",
    "def hist(n):\n",
    "    global sorted_list\n",
    "    fig = plt.figure(figsize=(9, 5))\n",
    "    ax = fig.add_subplot() \n",
    "    ax.set(title='Частотность слов')\n",
    "    # print(all_w)\n",
    "    ax.bar([x[0] for x in sorted_list[:n]], [x[1] for x in sorted_list[:n]]) \n",
    "    # plt.hist([x[0] for x in all_w[0:n]], bins=[x[1] for x in all_w[0:n]])\n",
    "    plt.show()\n",
    "\n",
    "def statistique():\n",
    "    amount = int(input('Введите верхнюю границу.'))\n",
    "    interact(hist, n=list(range(1, amount + 1)))\n",
    "\n",
    "with open('three_comrades.txt', 'r', encoding='cp1251') as file:\n",
    "    all_words = defaultdict(int)\n",
    "    for line in file:\n",
    "        words = [w.strip(punctuation).lower() for w in line.split()]\n",
    "        for word in words:\n",
    "            if word != '':\n",
    "                all_words[word] += 1\n",
    "\n",
    "sorted_list = sorted(all_words.items(), key=lambda x: x[1], reverse=True)\n",
    "statistique()"
   ]
  }
 ],
 "metadata": {
  "kernelspec": {
   "display_name": "Python 3",
   "language": "python",
   "name": "python3"
  },
  "language_info": {
   "codemirror_mode": {
    "name": "ipython",
    "version": 3
   },
   "file_extension": ".py",
   "mimetype": "text/x-python",
   "name": "python",
   "nbconvert_exporter": "python",
   "pygments_lexer": "ipython3",
   "version": "3.11.9"
  }
 },
 "nbformat": 4,
 "nbformat_minor": 5
}
