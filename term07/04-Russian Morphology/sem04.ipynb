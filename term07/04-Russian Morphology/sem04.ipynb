{
 "cells": [
  {
   "cell_type": "markdown",
   "id": "9f43da11-89a3-46a5-ab9a-c3d05b15dcad",
   "metadata": {},
   "source": [
    "#### Задача 1. \n",
    "\n",
    "Возьмите любой не очень длинный текст на русском языке (2-3 предложения будет достаточно), хорошо, если это будет текст из соцсетей или любой, с вашей точки зрения, сложный для морфоанализа. Сравните pymorphy и spacy: придется ручками посчитать, сколько у каждого из них в разборах было ошибок. "
   ]
  },
  {
   "cell_type": "code",
   "execution_count": 2,
   "id": "3fb3425c-7a72-42d6-b16d-d8b3ebba33ff",
   "metadata": {},
   "outputs": [],
   "source": [
    "text = 'Ввиду этой богомногочисленности самому осторожному и набожному египтянину ежеминутн приходилось совершать различные кощунства. То наступит кошке на хвост, то цыкнет на священную собаку, то съест в борще святую муху.'"
   ]
  },
  {
   "cell_type": "code",
   "execution_count": 20,
   "id": "230e210f",
   "metadata": {},
   "outputs": [],
   "source": [
    "from nltk.tokenize import RegexpTokenizer\n",
    "\n",
    "tokenizer = RegexpTokenizer(r'\\w+|\\$[\\d\\.]+')\n",
    "tokens = tokenizer.tokenize(text)"
   ]
  },
  {
   "cell_type": "code",
   "execution_count": 22,
   "id": "fc20fc00",
   "metadata": {},
   "outputs": [
    {
     "name": "stdout",
     "output_type": "stream",
     "text": [
      "[Parse(word='ввиду', tag=OpencorporaTag('PREP'), normal_form='ввиду', score=1.0, methods_stack=((DictionaryAnalyzer(), 'ввиду', 24, 0),))]\n",
      "[Parse(word='этой', tag=OpencorporaTag('ADJF,Subx,Apro,Anph femn,sing,gent'), normal_form='этот', score=0.459783, methods_stack=((DictionaryAnalyzer(), 'этой', 3241, 8),)), Parse(word='этой', tag=OpencorporaTag('ADJF,Subx,Apro,Anph femn,sing,loct'), normal_form='этот', score=0.332533, methods_stack=((DictionaryAnalyzer(), 'этой', 3241, 12),)), Parse(word='этой', tag=OpencorporaTag('ADJF,Subx,Apro,Anph femn,sing,ablt'), normal_form='этот', score=0.105642, methods_stack=((DictionaryAnalyzer(), 'этой', 3241, 11),)), Parse(word='этой', tag=OpencorporaTag('ADJF,Subx,Apro,Anph femn,sing,datv'), normal_form='этот', score=0.10204, methods_stack=((DictionaryAnalyzer(), 'этой', 3241, 9),))]\n",
      "[Parse(word='богомногочисленности', tag=OpencorporaTag('NOUN,inan,femn sing,gent'), normal_form='богомногочисленность', score=0.2, methods_stack=((DictionaryAnalyzer(), 'многочисленности', 13, 1), (UnknownPrefixAnalyzer(score_multiplier=0.5), 'бого'))), Parse(word='богомногочисленности', tag=OpencorporaTag('NOUN,inan,femn sing,datv'), normal_form='богомногочисленность', score=0.2, methods_stack=((DictionaryAnalyzer(), 'многочисленности', 13, 2), (UnknownPrefixAnalyzer(score_multiplier=0.5), 'бого'))), Parse(word='богомногочисленности', tag=OpencorporaTag('NOUN,inan,femn sing,loct'), normal_form='богомногочисленность', score=0.2, methods_stack=((DictionaryAnalyzer(), 'многочисленности', 13, 5), (UnknownPrefixAnalyzer(score_multiplier=0.5), 'бого'))), Parse(word='богомногочисленности', tag=OpencorporaTag('NOUN,inan,femn plur,nomn'), normal_form='богомногочисленность', score=0.2, methods_stack=((DictionaryAnalyzer(), 'многочисленности', 13, 6), (UnknownPrefixAnalyzer(score_multiplier=0.5), 'бого'))), Parse(word='богомногочисленности', tag=OpencorporaTag('NOUN,inan,femn plur,accs'), normal_form='богомногочисленность', score=0.2, methods_stack=((DictionaryAnalyzer(), 'многочисленности', 13, 9), (UnknownPrefixAnalyzer(score_multiplier=0.5), 'бого')))]\n",
      "[Parse(word='самому', tag=OpencorporaTag('ADJF,Apro masc,sing,datv'), normal_form='сам', score=0.25, methods_stack=((DictionaryAnalyzer(), 'самому', 2823, 2),)), Parse(word='самому', tag=OpencorporaTag('ADJF,Apro neut,sing,datv'), normal_form='сам', score=0.25, methods_stack=((DictionaryAnalyzer(), 'самому', 2823, 16),)), Parse(word='самому', tag=OpencorporaTag('ADJF,Apro masc,sing,datv'), normal_form='самый', score=0.25, methods_stack=((DictionaryAnalyzer(), 'самому', 2825, 2),)), Parse(word='самому', tag=OpencorporaTag('ADJF,Apro neut,sing,datv'), normal_form='самый', score=0.25, methods_stack=((DictionaryAnalyzer(), 'самому', 2825, 15),))]\n",
      "[Parse(word='осторожному', tag=OpencorporaTag('ADJF,Qual masc,sing,datv'), normal_form='осторожный', score=0.5, methods_stack=((DictionaryAnalyzer(), 'осторожному', 87, 2),)), Parse(word='осторожному', tag=OpencorporaTag('ADJF,Qual neut,sing,datv'), normal_form='осторожный', score=0.5, methods_stack=((DictionaryAnalyzer(), 'осторожному', 87, 16),))]\n",
      "[Parse(word='и', tag=OpencorporaTag('CONJ'), normal_form='и', score=0.998263, methods_stack=((DictionaryAnalyzer(), 'и', 20, 0),)), Parse(word='и', tag=OpencorporaTag('PRCL'), normal_form='и', score=0.000306, methods_stack=((DictionaryAnalyzer(), 'и', 22, 0),)), Parse(word='и', tag=OpencorporaTag('INTJ'), normal_form='и', score=0.000204, methods_stack=((DictionaryAnalyzer(), 'и', 21, 0),)), Parse(word='и', tag=OpencorporaTag('NOUN,anim,masc,Fixd,Abbr sing,nomn'), normal_form='и', score=0.000102, methods_stack=((DictionaryAnalyzer(), 'и', 3289, 0),)), Parse(word='и', tag=OpencorporaTag('NOUN,anim,masc,Fixd,Abbr sing,gent'), normal_form='и', score=0.000102, methods_stack=((DictionaryAnalyzer(), 'и', 3289, 1),)), Parse(word='и', tag=OpencorporaTag('NOUN,anim,masc,Fixd,Abbr sing,datv'), normal_form='и', score=0.000102, methods_stack=((DictionaryAnalyzer(), 'и', 3289, 2),)), Parse(word='и', tag=OpencorporaTag('NOUN,anim,masc,Fixd,Abbr sing,accs'), normal_form='и', score=0.000102, methods_stack=((DictionaryAnalyzer(), 'и', 3289, 3),)), Parse(word='и', tag=OpencorporaTag('NOUN,anim,masc,Fixd,Abbr sing,ablt'), normal_form='и', score=0.000102, methods_stack=((DictionaryAnalyzer(), 'и', 3289, 4),)), Parse(word='и', tag=OpencorporaTag('NOUN,anim,masc,Fixd,Abbr sing,loct'), normal_form='и', score=0.000102, methods_stack=((DictionaryAnalyzer(), 'и', 3289, 5),)), Parse(word='и', tag=OpencorporaTag('NOUN,anim,masc,Fixd,Abbr plur,nomn'), normal_form='и', score=0.000102, methods_stack=((DictionaryAnalyzer(), 'и', 3289, 6),)), Parse(word='и', tag=OpencorporaTag('NOUN,anim,masc,Fixd,Abbr plur,gent'), normal_form='и', score=0.000102, methods_stack=((DictionaryAnalyzer(), 'и', 3289, 7),)), Parse(word='и', tag=OpencorporaTag('NOUN,anim,masc,Fixd,Abbr plur,datv'), normal_form='и', score=0.000102, methods_stack=((DictionaryAnalyzer(), 'и', 3289, 8),)), Parse(word='и', tag=OpencorporaTag('NOUN,anim,masc,Fixd,Abbr plur,accs'), normal_form='и', score=0.000102, methods_stack=((DictionaryAnalyzer(), 'и', 3289, 9),)), Parse(word='и', tag=OpencorporaTag('NOUN,anim,masc,Fixd,Abbr plur,ablt'), normal_form='и', score=0.000102, methods_stack=((DictionaryAnalyzer(), 'и', 3289, 10),)), Parse(word='и', tag=OpencorporaTag('NOUN,anim,masc,Fixd,Abbr plur,loct'), normal_form='и', score=0.000102, methods_stack=((DictionaryAnalyzer(), 'и', 3289, 11),))]\n",
      "[Parse(word='набожному', tag=OpencorporaTag('ADJF,Qual masc,sing,datv'), normal_form='набожный', score=0.5, methods_stack=((DictionaryAnalyzer(), 'набожному', 12, 2),)), Parse(word='набожному', tag=OpencorporaTag('ADJF,Qual neut,sing,datv'), normal_form='набожный', score=0.5, methods_stack=((DictionaryAnalyzer(), 'набожному', 12, 16),))]\n",
      "[Parse(word='египтянину', tag=OpencorporaTag('NOUN,anim,masc sing,datv'), normal_form='египтянин', score=1.0, methods_stack=((DictionaryAnalyzer(), 'египтянину', 162, 2),))]\n",
      "[Parse(word='ежеминутн', tag=OpencorporaTag('NOUN,inan,masc sing,nomn'), normal_form='ежеминутн', score=0.3703565428411424, methods_stack=((FakeDictionary(), 'ежеминутн', 34, 0), (KnownSuffixAnalyzer(min_word_length=4, score_multiplier=0.5), 'н'))), Parse(word='ежеминутн', tag=OpencorporaTag('NOUN,inan,masc sing,accs'), normal_form='ежеминутн', score=0.3703565428411424, methods_stack=((FakeDictionary(), 'ежеминутн', 34, 3), (KnownSuffixAnalyzer(min_word_length=4, score_multiplier=0.5), 'н'))), Parse(word='ежеминутн', tag=OpencorporaTag('PRTS,perf,past,pssv masc,sing'), normal_form='ежеминутть', score=0.17752473399290647, methods_stack=((FakeDictionary(), 'ежеминутн', 648, 71), (KnownSuffixAnalyzer(min_word_length=4, score_multiplier=0.5), 'н'))), Parse(word='ежеминутн', tag=OpencorporaTag('ADJS,Qual masc,sing'), normal_form='ежеминутнный', score=0.04013440358409557, methods_stack=((FakeDictionary(), 'ежеминутн', 345, 27), (KnownSuffixAnalyzer(min_word_length=4, score_multiplier=0.5), 'н'))), Parse(word='ежеминутн', tag=OpencorporaTag('ADJF,Poss masc,sing,nomn'), normal_form='ежеминутн', score=0.020347209258913566, methods_stack=((FakeDictionary(), 'ежеминутн', 277, 0), (KnownSuffixAnalyzer(min_word_length=4, score_multiplier=0.5), 'н'))), Parse(word='ежеминутн', tag=OpencorporaTag('ADJF,Poss inan,masc,sing,accs'), normal_form='ежеминутн', score=0.020347209258913566, methods_stack=((FakeDictionary(), 'ежеминутн', 277, 7), (KnownSuffixAnalyzer(min_word_length=4, score_multiplier=0.5), 'н'))), Parse(word='ежеминутн', tag=OpencorporaTag('ADVB'), normal_form='ежеминутн', score=0.0009333582228859436, methods_stack=((FakeDictionary(), 'ежеминутн', 3, 0), (KnownSuffixAnalyzer(min_word_length=4, score_multiplier=0.5), 'н')))]\n",
      "[Parse(word='приходилось', tag=OpencorporaTag('VERB,impf,intr neut,sing,past,indc'), normal_form='приходиться', score=1.0, methods_stack=((DictionaryAnalyzer(), 'приходилось', 428, 9),))]\n",
      "[Parse(word='совершать', tag=OpencorporaTag('INFN,impf,tran'), normal_form='совершать', score=1.0, methods_stack=((DictionaryAnalyzer(), 'совершать', 215, 0),))]\n",
      "[Parse(word='различные', tag=OpencorporaTag('ADJF,Qual plur,nomn'), normal_form='различный', score=0.555555, methods_stack=((DictionaryAnalyzer(), 'различные', 12, 20),)), Parse(word='различные', tag=OpencorporaTag('ADJF,Qual inan,plur,accs'), normal_form='различный', score=0.444444, methods_stack=((DictionaryAnalyzer(), 'различные', 12, 24),))]\n",
      "[Parse(word='кощунства', tag=OpencorporaTag('NOUN,inan,neut sing,gent'), normal_form='кощунство', score=0.3333333333333333, methods_stack=((DictionaryAnalyzer(), 'кощунства', 54, 1),)), Parse(word='кощунства', tag=OpencorporaTag('NOUN,inan,neut plur,nomn'), normal_form='кощунство', score=0.3333333333333333, methods_stack=((DictionaryAnalyzer(), 'кощунства', 54, 6),)), Parse(word='кощунства', tag=OpencorporaTag('NOUN,inan,neut plur,accs'), normal_form='кощунство', score=0.3333333333333333, methods_stack=((DictionaryAnalyzer(), 'кощунства', 54, 9),))]\n",
      "[Parse(word='то', tag=OpencorporaTag('CONJ'), normal_form='то', score=0.813852, methods_stack=((DictionaryAnalyzer(), 'то', 3013, 0),)), Parse(word='то', tag=OpencorporaTag('PRCL'), normal_form='то', score=0.170995, methods_stack=((DictionaryAnalyzer(), 'то', 22, 0),)), Parse(word='то', tag=OpencorporaTag('ADJF,Subx,Apro,Anph neut,sing,accs'), normal_form='тот', score=0.012987, methods_stack=((DictionaryAnalyzer(), 'то', 3027, 16),)), Parse(word='то', tag=OpencorporaTag('ADJF,Subx,Apro,Anph neut,sing,nomn'), normal_form='тот', score=0.002164, methods_stack=((DictionaryAnalyzer(), 'то', 3027, 13),))]\n",
      "[Parse(word='наступит', tag=OpencorporaTag('VERB,perf,intr sing,3per,futr,indc'), normal_form='наступить', score=1.0, methods_stack=((DictionaryAnalyzer(), 'наступит', 903, 9),))]\n",
      "[Parse(word='кошке', tag=OpencorporaTag('NOUN,anim,femn sing,datv'), normal_form='кошка', score=0.4, methods_stack=((DictionaryAnalyzer(), 'кошке', 134, 2),)), Parse(word='кошке', tag=OpencorporaTag('NOUN,inan,femn sing,datv'), normal_form='кошка', score=0.2, methods_stack=((DictionaryAnalyzer(), 'кошке', 9, 2),)), Parse(word='кошке', tag=OpencorporaTag('NOUN,inan,femn sing,loct'), normal_form='кошка', score=0.2, methods_stack=((DictionaryAnalyzer(), 'кошке', 9, 6),)), Parse(word='кошке', tag=OpencorporaTag('NOUN,anim,femn sing,loct'), normal_form='кошка', score=0.2, methods_stack=((DictionaryAnalyzer(), 'кошке', 134, 6),))]\n",
      "[Parse(word='на', tag=OpencorporaTag('PREP'), normal_form='на', score=0.998961, methods_stack=((DictionaryAnalyzer(), 'на', 24, 0),)), Parse(word='на', tag=OpencorporaTag('PRCL'), normal_form='на', score=0.000849, methods_stack=((DictionaryAnalyzer(), 'на', 22, 0),)), Parse(word='на', tag=OpencorporaTag('INTJ'), normal_form='на', score=0.000188, methods_stack=((DictionaryAnalyzer(), 'на', 21, 0),))]\n",
      "[Parse(word='хвост', tag=OpencorporaTag('NOUN,inan,masc sing,accs'), normal_form='хвост', score=0.571428, methods_stack=((DictionaryAnalyzer(), 'хвост', 528, 3),)), Parse(word='хвост', tag=OpencorporaTag('NOUN,inan,masc sing,nomn'), normal_form='хвост', score=0.428571, methods_stack=((DictionaryAnalyzer(), 'хвост', 528, 0),))]\n",
      "[Parse(word='то', tag=OpencorporaTag('CONJ'), normal_form='то', score=0.813852, methods_stack=((DictionaryAnalyzer(), 'то', 3013, 0),)), Parse(word='то', tag=OpencorporaTag('PRCL'), normal_form='то', score=0.170995, methods_stack=((DictionaryAnalyzer(), 'то', 22, 0),)), Parse(word='то', tag=OpencorporaTag('ADJF,Subx,Apro,Anph neut,sing,accs'), normal_form='тот', score=0.012987, methods_stack=((DictionaryAnalyzer(), 'то', 3027, 16),)), Parse(word='то', tag=OpencorporaTag('ADJF,Subx,Apro,Anph neut,sing,nomn'), normal_form='тот', score=0.002164, methods_stack=((DictionaryAnalyzer(), 'то', 3027, 13),))]\n",
      "[Parse(word='цыкнет', tag=OpencorporaTag('VERB,perf,intr sing,3per,futr,indc'), normal_form='цыкнуть', score=1.0, methods_stack=((DictionaryAnalyzer(), 'цыкнет', 7, 9),))]\n",
      "[Parse(word='на', tag=OpencorporaTag('PREP'), normal_form='на', score=0.998961, methods_stack=((DictionaryAnalyzer(), 'на', 24, 0),)), Parse(word='на', tag=OpencorporaTag('PRCL'), normal_form='на', score=0.000849, methods_stack=((DictionaryAnalyzer(), 'на', 22, 0),)), Parse(word='на', tag=OpencorporaTag('INTJ'), normal_form='на', score=0.000188, methods_stack=((DictionaryAnalyzer(), 'на', 21, 0),))]\n",
      "[Parse(word='священную', tag=OpencorporaTag('ADJF,Qual femn,sing,accs'), normal_form='священный', score=1.0, methods_stack=((DictionaryAnalyzer(), 'священную', 516, 10),))]\n",
      "[Parse(word='собаку', tag=OpencorporaTag('NOUN,anim,femn sing,accs'), normal_form='собака', score=1.0, methods_stack=((DictionaryAnalyzer(), 'собаку', 421, 3),))]\n",
      "[Parse(word='то', tag=OpencorporaTag('CONJ'), normal_form='то', score=0.813852, methods_stack=((DictionaryAnalyzer(), 'то', 3013, 0),)), Parse(word='то', tag=OpencorporaTag('PRCL'), normal_form='то', score=0.170995, methods_stack=((DictionaryAnalyzer(), 'то', 22, 0),)), Parse(word='то', tag=OpencorporaTag('ADJF,Subx,Apro,Anph neut,sing,accs'), normal_form='тот', score=0.012987, methods_stack=((DictionaryAnalyzer(), 'то', 3027, 16),)), Parse(word='то', tag=OpencorporaTag('ADJF,Subx,Apro,Anph neut,sing,nomn'), normal_form='тот', score=0.002164, methods_stack=((DictionaryAnalyzer(), 'то', 3027, 13),))]\n",
      "[Parse(word='съест', tag=OpencorporaTag('VERB,perf,tran sing,3per,futr,indc'), normal_form='съесть', score=1.0, methods_stack=((DictionaryAnalyzer(), 'съест', 1064, 9),))]\n",
      "[Parse(word='в', tag=OpencorporaTag('PREP'), normal_form='в', score=0.999327, methods_stack=((DictionaryAnalyzer(), 'в', 393, 0),)), Parse(word='в', tag=OpencorporaTag('NOUN,inan,masc,Fixd,Abbr sing,gent'), normal_form='в', score=0.000249, methods_stack=((DictionaryAnalyzer(), 'в', 349, 1),)), Parse(word='в', tag=OpencorporaTag('NOUN,inan,masc,Fixd,Abbr sing,loct'), normal_form='в', score=5.7e-05, methods_stack=((DictionaryAnalyzer(), 'в', 349, 5),)), Parse(word='в', tag=OpencorporaTag('NOUN,inan,masc,Fixd,Abbr sing,nomn'), normal_form='в', score=1.9e-05, methods_stack=((DictionaryAnalyzer(), 'в', 349, 0),)), Parse(word='в', tag=OpencorporaTag('NOUN,inan,masc,Fixd,Abbr sing,datv'), normal_form='в', score=1.9e-05, methods_stack=((DictionaryAnalyzer(), 'в', 349, 2),)), Parse(word='в', tag=OpencorporaTag('NOUN,inan,masc,Fixd,Abbr sing,accs'), normal_form='в', score=1.9e-05, methods_stack=((DictionaryAnalyzer(), 'в', 349, 3),)), Parse(word='в', tag=OpencorporaTag('NOUN,inan,masc,Fixd,Abbr sing,ablt'), normal_form='в', score=1.9e-05, methods_stack=((DictionaryAnalyzer(), 'в', 349, 4),)), Parse(word='в', tag=OpencorporaTag('NOUN,inan,masc,Fixd,Abbr plur,nomn'), normal_form='в', score=1.9e-05, methods_stack=((DictionaryAnalyzer(), 'в', 349, 6),)), Parse(word='в', tag=OpencorporaTag('NOUN,inan,masc,Fixd,Abbr plur,gent'), normal_form='в', score=1.9e-05, methods_stack=((DictionaryAnalyzer(), 'в', 349, 7),)), Parse(word='в', tag=OpencorporaTag('NOUN,inan,masc,Fixd,Abbr plur,datv'), normal_form='в', score=1.9e-05, methods_stack=((DictionaryAnalyzer(), 'в', 349, 8),)), Parse(word='в', tag=OpencorporaTag('NOUN,inan,masc,Fixd,Abbr plur,accs'), normal_form='в', score=1.9e-05, methods_stack=((DictionaryAnalyzer(), 'в', 349, 9),)), Parse(word='в', tag=OpencorporaTag('NOUN,inan,masc,Fixd,Abbr plur,ablt'), normal_form='в', score=1.9e-05, methods_stack=((DictionaryAnalyzer(), 'в', 349, 10),)), Parse(word='в', tag=OpencorporaTag('NOUN,inan,masc,Fixd,Abbr plur,loct'), normal_form='в', score=1.9e-05, methods_stack=((DictionaryAnalyzer(), 'в', 349, 11),))]\n",
      "[Parse(word='борще', tag=OpencorporaTag('NOUN,inan,masc sing,loct'), normal_form='борщ', score=1.0, methods_stack=((DictionaryAnalyzer(), 'борще', 136, 5),))]\n",
      "[Parse(word='святую', tag=OpencorporaTag('ADJF,Subx,Qual femn,sing,accs'), normal_form='святой', score=1.0, methods_stack=((DictionaryAnalyzer(), 'святую', 2852, 10),))]\n",
      "[Parse(word='муху', tag=OpencorporaTag('NOUN,anim,femn sing,accs'), normal_form='муха', score=1.0, methods_stack=((DictionaryAnalyzer(), 'муху', 421, 3),))]\n"
     ]
    }
   ],
   "source": [
    "import pymorphy3\n",
    "\n",
    "morph = pymorphy3.MorphAnalyzer()\n",
    "\n",
    "for word in tokens:\n",
    "    parse = morph.parse(word)\n",
    "    print(parse)"
   ]
  },
  {
   "cell_type": "code",
   "execution_count": 13,
   "id": "e776b3be",
   "metadata": {},
   "outputs": [
    {
     "name": "stdout",
     "output_type": "stream",
     "text": [
      "Токен: Ввиду\n",
      "\tЛемма: ввиду\n",
      "\tPOS: ADP\n",
      "\tТэг: ADP\n",
      "\tМорфология: \n",
      "Токен: этой\n",
      "\tЛемма: этот\n",
      "\tPOS: DET\n",
      "\tТэг: DET\n",
      "\tМорфология: Case=Gen|Gender=Fem|Number=Sing\n",
      "Токен: богомногочисленности\n",
      "\tЛемма: богомногочисленности\n",
      "\tPOS: NOUN\n",
      "\tТэг: NOUN\n",
      "\tМорфология: Animacy=Inan|Case=Gen|Gender=Fem|Number=Sing\n",
      "Токен: самому\n",
      "\tЛемма: самому\n",
      "\tPOS: ADJ\n",
      "\tТэг: ADJ\n",
      "\tМорфология: Case=Dat|Degree=Pos|Gender=Masc|Number=Sing\n",
      "Токен: осторожному\n",
      "\tЛемма: осторожный\n",
      "\tPOS: ADJ\n",
      "\tТэг: ADJ\n",
      "\tМорфология: Case=Dat|Degree=Pos|Gender=Masc|Number=Sing\n",
      "Токен: и\n",
      "\tЛемма: и\n",
      "\tPOS: CCONJ\n",
      "\tТэг: CCONJ\n",
      "\tМорфология: \n",
      "Токен: набожному\n",
      "\tЛемма: набожный\n",
      "\tPOS: ADJ\n",
      "\tТэг: ADJ\n",
      "\tМорфология: Case=Dat|Degree=Pos|Gender=Masc|Number=Sing\n",
      "Токен: египтянину\n",
      "\tЛемма: египтянин\n",
      "\tPOS: NOUN\n",
      "\tТэг: NOUN\n",
      "\tМорфология: Animacy=Anim|Case=Dat|Gender=Masc|Number=Sing\n",
      "Токен: ежеминутн\n",
      "\tЛемма: ежеминутн\n",
      "\tPOS: NOUN\n",
      "\tТэг: NOUN\n",
      "\tМорфология: Animacy=Anim|Case=Dat|Gender=Masc|Number=Sing\n",
      "Токен: приходилось\n",
      "\tЛемма: приходиться\n",
      "\tPOS: VERB\n",
      "\tТэг: VERB\n",
      "\tМорфология: Aspect=Imp|Gender=Neut|Mood=Ind|Number=Sing|Tense=Past|VerbForm=Fin|Voice=Mid\n",
      "Токен: совершать\n",
      "\tЛемма: совершать\n",
      "\tPOS: VERB\n",
      "\tТэг: VERB\n",
      "\tМорфология: Aspect=Imp|VerbForm=Inf|Voice=Act\n",
      "Токен: различные\n",
      "\tЛемма: различный\n",
      "\tPOS: ADJ\n",
      "\tТэг: ADJ\n",
      "\tМорфология: Animacy=Inan|Case=Acc|Degree=Pos|Number=Plur\n",
      "Токен: кощунства\n",
      "\tЛемма: кощунство\n",
      "\tPOS: NOUN\n",
      "\tТэг: NOUN\n",
      "\tМорфология: Animacy=Inan|Case=Acc|Gender=Neut|Number=Plur\n",
      "Токен: .\n",
      "\tЛемма: .\n",
      "\tPOS: PUNCT\n",
      "\tТэг: PUNCT\n",
      "\tМорфология: \n",
      "Токен: То\n",
      "\tЛемма: То\n",
      "\tPOS: SCONJ\n",
      "\tТэг: SCONJ\n",
      "\tМорфология: \n",
      "Токен: наступит\n",
      "\tЛемма: наступить\n",
      "\tPOS: VERB\n",
      "\tТэг: VERB\n",
      "\tМорфология: Aspect=Perf|Mood=Ind|Number=Sing|Person=Third|Tense=Fut|VerbForm=Fin|Voice=Act\n",
      "Токен: кошке\n",
      "\tЛемма: кошка\n",
      "\tPOS: NOUN\n",
      "\tТэг: NOUN\n",
      "\tМорфология: Animacy=Anim|Case=Dat|Gender=Fem|Number=Sing\n",
      "Токен: на\n",
      "\tЛемма: на\n",
      "\tPOS: ADP\n",
      "\tТэг: ADP\n",
      "\tМорфология: \n",
      "Токен: хвост\n",
      "\tЛемма: хвост\n",
      "\tPOS: NOUN\n",
      "\tТэг: NOUN\n",
      "\tМорфология: Animacy=Inan|Case=Acc|Gender=Masc|Number=Sing\n",
      "Токен: ,\n",
      "\tЛемма: ,\n",
      "\tPOS: PUNCT\n",
      "\tТэг: PUNCT\n",
      "\tМорфология: \n",
      "Токен: то\n",
      "\tЛемма: то\n",
      "\tPOS: SCONJ\n",
      "\tТэг: SCONJ\n",
      "\tМорфология: \n",
      "Токен: цыкнет\n",
      "\tЛемма: цыкнет\n",
      "\tPOS: VERB\n",
      "\tТэг: VERB\n",
      "\tМорфология: Aspect=Imp|Mood=Ind|Number=Sing|Person=Third|Tense=Pres|VerbForm=Fin|Voice=Act\n",
      "Токен: на\n",
      "\tЛемма: на\n",
      "\tPOS: ADP\n",
      "\tТэг: ADP\n",
      "\tМорфология: \n",
      "Токен: священную\n",
      "\tЛемма: священный\n",
      "\tPOS: ADJ\n",
      "\tТэг: ADJ\n",
      "\tМорфология: Case=Acc|Degree=Pos|Gender=Fem|Number=Sing\n",
      "Токен: собаку\n",
      "\tЛемма: собака\n",
      "\tPOS: NOUN\n",
      "\tТэг: NOUN\n",
      "\tМорфология: Animacy=Anim|Case=Acc|Gender=Fem|Number=Sing\n",
      "Токен: ,\n",
      "\tЛемма: ,\n",
      "\tPOS: PUNCT\n",
      "\tТэг: PUNCT\n",
      "\tМорфология: \n",
      "Токен: то\n",
      "\tЛемма: то\n",
      "\tPOS: SCONJ\n",
      "\tТэг: SCONJ\n",
      "\tМорфология: \n",
      "Токен: съест\n",
      "\tЛемма: съесть\n",
      "\tPOS: VERB\n",
      "\tТэг: VERB\n",
      "\tМорфология: Aspect=Perf|Mood=Ind|Number=Sing|Person=Third|Tense=Fut|VerbForm=Fin|Voice=Act\n",
      "Токен: в\n",
      "\tЛемма: в\n",
      "\tPOS: ADP\n",
      "\tТэг: ADP\n",
      "\tМорфология: \n",
      "Токен: борще\n",
      "\tЛемма: борще\n",
      "\tPOS: NOUN\n",
      "\tТэг: NOUN\n",
      "\tМорфология: Animacy=Inan|Case=Acc|Gender=Masc|Number=Sing\n",
      "Токен: святую\n",
      "\tЛемма: святую\n",
      "\tPOS: VERB\n",
      "\tТэг: VERB\n",
      "\tМорфология: Aspect=Perf|Case=Acc|Gender=Fem|Number=Sing|Tense=Past|VerbForm=Part|Voice=Pass\n",
      "Токен: муху\n",
      "\tЛемма: муха\n",
      "\tPOS: NOUN\n",
      "\tТэг: NOUN\n",
      "\tМорфология: Animacy=Inan|Case=Acc|Gender=Fem|Number=Sing\n",
      "Токен: .\n",
      "\tЛемма: .\n",
      "\tPOS: PUNCT\n",
      "\tТэг: PUNCT\n",
      "\tМорфология: \n"
     ]
    }
   ],
   "source": [
    "import spacy\n",
    "\n",
    "nlp = spacy.load(\"ru_core_news_sm\")\n",
    "doc = nlp(text)\n",
    "\n",
    "for token in doc:\n",
    "    print(f\"Токен: {token.text}\")\n",
    "    print(f\"\\tЛемма: {token.lemma_}\")\n",
    "    print(f\"\\tPOS: {token.pos_}\")\n",
    "    print(f\"\\tТэг: {token.tag_}\")\n",
    "    print(f\"\\tМорфология: {token.morph}\")\n",
    "\n"
   ]
  },
  {
   "cell_type": "markdown",
   "id": "23550d88-cc6f-4a67-b0fa-64858a0bf5f3",
   "metadata": {},
   "source": [
    "#### Задача 2. \n",
    "\n",
    "Для любого (достаточно длинного - возьмите файл!) текста на русском языке посчитайте процентный состав по частям речи: сколько в нем в процентах сущ, гл и т.п. "
   ]
  },
  {
   "cell_type": "code",
   "execution_count": 7,
   "id": "193116b5-7941-4eb2-870e-91c6598f1cc5",
   "metadata": {},
   "outputs": [],
   "source": [
    "import os\n",
    "\n",
    "path = os.path.abspath(os.path.join('..', '..', 'term06', 'BASE', '05-Matplotlib', 'three_comrades.txt'))\n",
    "with open(path, 'r' , encoding='ANSI') as file:\n",
    "    raw = file.read()\n"
   ]
  },
  {
   "cell_type": "code",
   "execution_count": 8,
   "id": "c1c79cac",
   "metadata": {},
   "outputs": [],
   "source": [
    "from nltk.tokenize import RegexpTokenizer\n",
    "\n",
    "tokenizer = RegexpTokenizer(r'\\w+|\\$[\\d\\.]+')\n",
    "tokens = tokenizer.tokenize(raw)"
   ]
  },
  {
   "cell_type": "code",
   "execution_count": 14,
   "id": "bda8f1d7",
   "metadata": {},
   "outputs": [],
   "source": [
    "import spacy\n",
    "\n",
    "nlp = spacy.load(\"ru_core_news_sm\")\n",
    "doc2 = nlp(raw)"
   ]
  },
  {
   "cell_type": "code",
   "execution_count": 17,
   "id": "b1123a1c",
   "metadata": {},
   "outputs": [
    {
     "name": "stdout",
     "output_type": "stream",
     "text": [
      "SPACE: 19.72037%\n",
      "PROPN: 2.28694%\n",
      "PUNCT: 19.70727%\n",
      "NUM: 0.59794%\n",
      "NOUN: 11.47608%\n",
      "VERB: 11.80413%\n",
      "ADP: 5.4396%\n",
      "ADJ: 4.56706%\n",
      "CCONJ: 2.60975%\n",
      "AUX: 0.99045%\n",
      "SCONJ: 1.41597%\n",
      "PRON: 9.0618%\n",
      "ADV: 5.54598%\n",
      "PART: 2.82932%\n",
      "DET: 1.77285%\n",
      "SYM: 0.15145%\n",
      "INTJ: 0.02044%\n",
      "X: 0.00262%\n"
     ]
    }
   ],
   "source": [
    "vocab = dict()\n",
    "for token in doc2:\n",
    "    if token.tag_ in vocab.keys():\n",
    "        vocab[token.tag_] += 1\n",
    "    else:\n",
    "        vocab[token.tag_] = 1\n",
    "\n",
    "total = sum(vocab.values())\n",
    "for tag, amount in vocab.items():\n",
    "    print(f'{tag}: {round(amount / total * 100, 5)}%')"
   ]
  },
  {
   "cell_type": "markdown",
   "id": "8a8a5482-91af-4286-b9be-897e9ec5114b",
   "metadata": {},
   "source": [
    "#### Задача 3. \n",
    "\n",
    "Посчитайте, сколько раз в тексте прилагательное шло после существительного, а сколько раз - до него (т.е. все случаи типа \"красивая девочка\" vs \"девочка красивая\"). Подумайте, можно ли доверять этим цифрам. "
   ]
  },
  {
   "cell_type": "code",
   "execution_count": null,
   "id": "f1c42e8a-8baf-4205-b496-006c09acac0f",
   "metadata": {},
   "outputs": [],
   "source": [
    "# your code here"
   ]
  },
  {
   "cell_type": "markdown",
   "id": "ccebc92c-3318-4c1e-8be8-be1ea577fd7f",
   "metadata": {},
   "source": [
    "#### Задача 4 (2 балла). \n",
    "\n",
    "В корпусной лингвистике и NLP существует такая метрика, как [TF-IDF](https://ru.wikipedia.org/wiki/TF-IDF). Соберите игрушечный корпус на 10 текстов (необязательно больших); напишите программу, которая будет по запросу пользователя выводить эту метрику для заданного пользователем слова на вашем корпусе. Это означает, что корпус необходимо будет лемматизировать и посчитать количество слов по документам. \n",
    "\n",
    "Подсказка: функции для подсчета логарифмов есть в модуле math. "
   ]
  },
  {
   "cell_type": "code",
   "execution_count": null,
   "id": "3e9efcf4-709c-49e7-8edd-438369ca5e9d",
   "metadata": {},
   "outputs": [],
   "source": [
    "# your code here"
   ]
  }
 ],
 "metadata": {
  "kernelspec": {
   "display_name": "Python 3",
   "language": "python",
   "name": "python3"
  },
  "language_info": {
   "codemirror_mode": {
    "name": "ipython",
    "version": 3
   },
   "file_extension": ".py",
   "mimetype": "text/x-python",
   "name": "python",
   "nbconvert_exporter": "python",
   "pygments_lexer": "ipython3",
   "version": "3.11.9"
  }
 },
 "nbformat": 4,
 "nbformat_minor": 5
}
